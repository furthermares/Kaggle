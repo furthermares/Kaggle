{
 "cells": [
  {
   "cell_type": "markdown",
   "id": "c18a9dc0",
   "metadata": {
    "papermill": {
     "duration": 0.014096,
     "end_time": "2023-05-03T05:22:52.213243",
     "exception": false,
     "start_time": "2023-05-03T05:22:52.199147",
     "status": "completed"
    },
    "tags": []
   },
   "source": [
    "Sample notebook verbatim. Yet to modify."
   ]
  },
  {
   "cell_type": "markdown",
   "id": "236db54f",
   "metadata": {
    "id": "Ck00s7mTmnjA",
    "papermill": {
     "duration": 0.012274,
     "end_time": "2023-05-03T05:22:52.238034",
     "exception": false,
     "start_time": "2023-05-03T05:22:52.225760",
     "status": "completed"
    },
    "tags": []
   },
   "source": [
    "# Spaceship Titanic Dataset with TensorFlow Decision Forests"
   ]
  },
  {
   "cell_type": "markdown",
   "id": "a7237bcb",
   "metadata": {
    "id": "62leGXylmnjF",
    "papermill": {
     "duration": 0.011821,
     "end_time": "2023-05-03T05:22:52.263785",
     "exception": false,
     "start_time": "2023-05-03T05:22:52.251964",
     "status": "completed"
    },
    "tags": []
   },
   "source": [
    "This notebook walks you through how to train a baseline Random Forest model using TensorFlow Decision Forests on the Spaceship Titanic dataset made available for this competition.\n",
    "\n",
    "Roughly, the code will look as follows:\n",
    "\n",
    "```\n",
    "import tensorflow_decision_forests as tfdf\n",
    "import pandas as pd\n",
    "\n",
    "dataset = pd.read_csv(\"project/dataset.csv\")\n",
    "tf_dataset = tfdf.keras.pd_dataframe_to_tf_dataset(dataset, label=\"my_label\")\n",
    "\n",
    "model = tfdf.keras.RandomForestModel()\n",
    "model.fit(tf_dataset)\n",
    "\n",
    "print(model.summary())\n",
    "```\n",
    "\n",
    "Decision Forests are a family of tree-based models including Random Forests and Gradient Boosted Trees. They are the best place to start when working with tabular data, and will often outperform (or provide a strong baseline) before you begin experimenting with neural networks."
   ]
  },
  {
   "cell_type": "markdown",
   "id": "8f9e754e",
   "metadata": {
    "id": "UPNzfVOEmnjH",
    "papermill": {
     "duration": 0.013354,
     "end_time": "2023-05-03T05:22:52.289313",
     "exception": false,
     "start_time": "2023-05-03T05:22:52.275959",
     "status": "completed"
    },
    "tags": []
   },
   "source": [
    "# Import the library"
   ]
  },
  {
   "cell_type": "code",
   "execution_count": 1,
   "id": "8ffbdad0",
   "metadata": {
    "execution": {
     "iopub.execute_input": "2023-05-03T05:22:52.316556Z",
     "iopub.status.busy": "2023-05-03T05:22:52.315956Z",
     "iopub.status.idle": "2023-05-03T05:23:03.017413Z",
     "shell.execute_reply": "2023-05-03T05:23:03.016310Z"
    },
    "id": "mmwBzpblmnjH",
    "papermill": {
     "duration": 10.718941,
     "end_time": "2023-05-03T05:23:03.020615",
     "exception": false,
     "start_time": "2023-05-03T05:22:52.301674",
     "status": "completed"
    },
    "tags": []
   },
   "outputs": [],
   "source": [
    "import tensorflow as tf\n",
    "import tensorflow_decision_forests as tfdf\n",
    "import pandas as pd\n",
    "import numpy as np\n",
    "import seaborn as sns\n",
    "import matplotlib.pyplot as plt"
   ]
  },
  {
   "cell_type": "code",
   "execution_count": 2,
   "id": "13578f52",
   "metadata": {
    "execution": {
     "iopub.execute_input": "2023-05-03T05:23:03.048144Z",
     "iopub.status.busy": "2023-05-03T05:23:03.046583Z",
     "iopub.status.idle": "2023-05-03T05:23:03.054254Z",
     "shell.execute_reply": "2023-05-03T05:23:03.052877Z"
    },
    "id": "grAO86gTmnjJ",
    "papermill": {
     "duration": 0.024235,
     "end_time": "2023-05-03T05:23:03.057152",
     "exception": false,
     "start_time": "2023-05-03T05:23:03.032917",
     "status": "completed"
    },
    "tags": []
   },
   "outputs": [
    {
     "name": "stdout",
     "output_type": "stream",
     "text": [
      "TensorFlow v2.11.0\n",
      "TensorFlow Decision Forests v1.2.0\n"
     ]
    }
   ],
   "source": [
    "print(\"TensorFlow v\" + tf.__version__)\n",
    "print(\"TensorFlow Decision Forests v\" + tfdf.__version__)"
   ]
  },
  {
   "cell_type": "markdown",
   "id": "5d07cb91",
   "metadata": {
    "id": "6sHFpppPmnjJ",
    "papermill": {
     "duration": 0.012002,
     "end_time": "2023-05-03T05:23:03.081421",
     "exception": false,
     "start_time": "2023-05-03T05:23:03.069419",
     "status": "completed"
    },
    "tags": []
   },
   "source": [
    "# Load the Dataset"
   ]
  },
  {
   "cell_type": "code",
   "execution_count": 3,
   "id": "cb7af5c2",
   "metadata": {
    "execution": {
     "iopub.execute_input": "2023-05-03T05:23:03.107977Z",
     "iopub.status.busy": "2023-05-03T05:23:03.107589Z",
     "iopub.status.idle": "2023-05-03T05:23:03.160815Z",
     "shell.execute_reply": "2023-05-03T05:23:03.159852Z"
    },
    "id": "c1P3Y3a7mnjL",
    "papermill": {
     "duration": 0.069684,
     "end_time": "2023-05-03T05:23:03.163397",
     "exception": false,
     "start_time": "2023-05-03T05:23:03.093713",
     "status": "completed"
    },
    "tags": []
   },
   "outputs": [
    {
     "name": "stdout",
     "output_type": "stream",
     "text": [
      "Full train dataset shape is (8693, 14)\n"
     ]
    }
   ],
   "source": [
    "# Load a dataset into a Pandas Dataframe\n",
    "dataset_df = pd.read_csv('/kaggle/input/spaceship-titanic/train.csv')\n",
    "print(\"Full train dataset shape is {}\".format(dataset_df.shape))"
   ]
  },
  {
   "cell_type": "markdown",
   "id": "ca161bc7",
   "metadata": {
    "id": "cEd92zhJmnjL",
    "papermill": {
     "duration": 0.012182,
     "end_time": "2023-05-03T05:23:03.187981",
     "exception": false,
     "start_time": "2023-05-03T05:23:03.175799",
     "status": "completed"
    },
    "tags": []
   },
   "source": [
    "The data is composed of 14 columns and 8693 entries. We can see all 14 dimensions of our dataset by printing out the first 5 entries using the following code:"
   ]
  },
  {
   "cell_type": "code",
   "execution_count": 4,
   "id": "2a8df43c",
   "metadata": {
    "execution": {
     "iopub.execute_input": "2023-05-03T05:23:03.215071Z",
     "iopub.status.busy": "2023-05-03T05:23:03.214255Z",
     "iopub.status.idle": "2023-05-03T05:23:03.251297Z",
     "shell.execute_reply": "2023-05-03T05:23:03.250051Z"
    },
    "id": "nCx3PE1xmnjM",
    "papermill": {
     "duration": 0.053647,
     "end_time": "2023-05-03T05:23:03.253876",
     "exception": false,
     "start_time": "2023-05-03T05:23:03.200229",
     "status": "completed"
    },
    "tags": []
   },
   "outputs": [
    {
     "data": {
      "text/html": [
       "<div>\n",
       "<style scoped>\n",
       "    .dataframe tbody tr th:only-of-type {\n",
       "        vertical-align: middle;\n",
       "    }\n",
       "\n",
       "    .dataframe tbody tr th {\n",
       "        vertical-align: top;\n",
       "    }\n",
       "\n",
       "    .dataframe thead th {\n",
       "        text-align: right;\n",
       "    }\n",
       "</style>\n",
       "<table border=\"1\" class=\"dataframe\">\n",
       "  <thead>\n",
       "    <tr style=\"text-align: right;\">\n",
       "      <th></th>\n",
       "      <th>PassengerId</th>\n",
       "      <th>HomePlanet</th>\n",
       "      <th>CryoSleep</th>\n",
       "      <th>Cabin</th>\n",
       "      <th>Destination</th>\n",
       "      <th>Age</th>\n",
       "      <th>VIP</th>\n",
       "      <th>RoomService</th>\n",
       "      <th>FoodCourt</th>\n",
       "      <th>ShoppingMall</th>\n",
       "      <th>Spa</th>\n",
       "      <th>VRDeck</th>\n",
       "      <th>Name</th>\n",
       "      <th>Transported</th>\n",
       "    </tr>\n",
       "  </thead>\n",
       "  <tbody>\n",
       "    <tr>\n",
       "      <th>0</th>\n",
       "      <td>0001_01</td>\n",
       "      <td>Europa</td>\n",
       "      <td>False</td>\n",
       "      <td>B/0/P</td>\n",
       "      <td>TRAPPIST-1e</td>\n",
       "      <td>39.0</td>\n",
       "      <td>False</td>\n",
       "      <td>0.0</td>\n",
       "      <td>0.0</td>\n",
       "      <td>0.0</td>\n",
       "      <td>0.0</td>\n",
       "      <td>0.0</td>\n",
       "      <td>Maham Ofracculy</td>\n",
       "      <td>False</td>\n",
       "    </tr>\n",
       "    <tr>\n",
       "      <th>1</th>\n",
       "      <td>0002_01</td>\n",
       "      <td>Earth</td>\n",
       "      <td>False</td>\n",
       "      <td>F/0/S</td>\n",
       "      <td>TRAPPIST-1e</td>\n",
       "      <td>24.0</td>\n",
       "      <td>False</td>\n",
       "      <td>109.0</td>\n",
       "      <td>9.0</td>\n",
       "      <td>25.0</td>\n",
       "      <td>549.0</td>\n",
       "      <td>44.0</td>\n",
       "      <td>Juanna Vines</td>\n",
       "      <td>True</td>\n",
       "    </tr>\n",
       "    <tr>\n",
       "      <th>2</th>\n",
       "      <td>0003_01</td>\n",
       "      <td>Europa</td>\n",
       "      <td>False</td>\n",
       "      <td>A/0/S</td>\n",
       "      <td>TRAPPIST-1e</td>\n",
       "      <td>58.0</td>\n",
       "      <td>True</td>\n",
       "      <td>43.0</td>\n",
       "      <td>3576.0</td>\n",
       "      <td>0.0</td>\n",
       "      <td>6715.0</td>\n",
       "      <td>49.0</td>\n",
       "      <td>Altark Susent</td>\n",
       "      <td>False</td>\n",
       "    </tr>\n",
       "    <tr>\n",
       "      <th>3</th>\n",
       "      <td>0003_02</td>\n",
       "      <td>Europa</td>\n",
       "      <td>False</td>\n",
       "      <td>A/0/S</td>\n",
       "      <td>TRAPPIST-1e</td>\n",
       "      <td>33.0</td>\n",
       "      <td>False</td>\n",
       "      <td>0.0</td>\n",
       "      <td>1283.0</td>\n",
       "      <td>371.0</td>\n",
       "      <td>3329.0</td>\n",
       "      <td>193.0</td>\n",
       "      <td>Solam Susent</td>\n",
       "      <td>False</td>\n",
       "    </tr>\n",
       "    <tr>\n",
       "      <th>4</th>\n",
       "      <td>0004_01</td>\n",
       "      <td>Earth</td>\n",
       "      <td>False</td>\n",
       "      <td>F/1/S</td>\n",
       "      <td>TRAPPIST-1e</td>\n",
       "      <td>16.0</td>\n",
       "      <td>False</td>\n",
       "      <td>303.0</td>\n",
       "      <td>70.0</td>\n",
       "      <td>151.0</td>\n",
       "      <td>565.0</td>\n",
       "      <td>2.0</td>\n",
       "      <td>Willy Santantines</td>\n",
       "      <td>True</td>\n",
       "    </tr>\n",
       "  </tbody>\n",
       "</table>\n",
       "</div>"
      ],
      "text/plain": [
       "  PassengerId HomePlanet CryoSleep  Cabin  Destination   Age    VIP  \\\n",
       "0     0001_01     Europa     False  B/0/P  TRAPPIST-1e  39.0  False   \n",
       "1     0002_01      Earth     False  F/0/S  TRAPPIST-1e  24.0  False   \n",
       "2     0003_01     Europa     False  A/0/S  TRAPPIST-1e  58.0   True   \n",
       "3     0003_02     Europa     False  A/0/S  TRAPPIST-1e  33.0  False   \n",
       "4     0004_01      Earth     False  F/1/S  TRAPPIST-1e  16.0  False   \n",
       "\n",
       "   RoomService  FoodCourt  ShoppingMall     Spa  VRDeck               Name  \\\n",
       "0          0.0        0.0           0.0     0.0     0.0    Maham Ofracculy   \n",
       "1        109.0        9.0          25.0   549.0    44.0       Juanna Vines   \n",
       "2         43.0     3576.0           0.0  6715.0    49.0      Altark Susent   \n",
       "3          0.0     1283.0         371.0  3329.0   193.0       Solam Susent   \n",
       "4        303.0       70.0         151.0   565.0     2.0  Willy Santantines   \n",
       "\n",
       "   Transported  \n",
       "0        False  \n",
       "1         True  \n",
       "2        False  \n",
       "3        False  \n",
       "4         True  "
      ]
     },
     "execution_count": 4,
     "metadata": {},
     "output_type": "execute_result"
    }
   ],
   "source": [
    "# Display the first 5 examples\n",
    "dataset_df.head(5)"
   ]
  },
  {
   "cell_type": "markdown",
   "id": "f888d32e",
   "metadata": {
    "id": "0-Euaq6dmnjN",
    "papermill": {
     "duration": 0.012133,
     "end_time": "2023-05-03T05:23:03.278698",
     "exception": false,
     "start_time": "2023-05-03T05:23:03.266565",
     "status": "completed"
    },
    "tags": []
   },
   "source": [
    "There are 12 feature columns. Using these features your model has to predict whether the passenger is rescued or not indicated by the column `Transported`."
   ]
  },
  {
   "cell_type": "markdown",
   "id": "ad0ae32d",
   "metadata": {
    "id": "1-Ewr6XDmnjN",
    "papermill": {
     "duration": 0.012101,
     "end_time": "2023-05-03T05:23:03.303166",
     "exception": false,
     "start_time": "2023-05-03T05:23:03.291065",
     "status": "completed"
    },
    "tags": []
   },
   "source": [
    "# Let us quickly do a basic exploration of the dataset"
   ]
  },
  {
   "cell_type": "code",
   "execution_count": 5,
   "id": "5f646ca0",
   "metadata": {
    "execution": {
     "iopub.execute_input": "2023-05-03T05:23:03.329993Z",
     "iopub.status.busy": "2023-05-03T05:23:03.329596Z",
     "iopub.status.idle": "2023-05-03T05:23:03.373228Z",
     "shell.execute_reply": "2023-05-03T05:23:03.372038Z"
    },
    "id": "XjwG5wjfmnjO",
    "papermill": {
     "duration": 0.060384,
     "end_time": "2023-05-03T05:23:03.376037",
     "exception": false,
     "start_time": "2023-05-03T05:23:03.315653",
     "status": "completed"
    },
    "tags": []
   },
   "outputs": [
    {
     "data": {
      "text/html": [
       "<div>\n",
       "<style scoped>\n",
       "    .dataframe tbody tr th:only-of-type {\n",
       "        vertical-align: middle;\n",
       "    }\n",
       "\n",
       "    .dataframe tbody tr th {\n",
       "        vertical-align: top;\n",
       "    }\n",
       "\n",
       "    .dataframe thead th {\n",
       "        text-align: right;\n",
       "    }\n",
       "</style>\n",
       "<table border=\"1\" class=\"dataframe\">\n",
       "  <thead>\n",
       "    <tr style=\"text-align: right;\">\n",
       "      <th></th>\n",
       "      <th>Age</th>\n",
       "      <th>RoomService</th>\n",
       "      <th>FoodCourt</th>\n",
       "      <th>ShoppingMall</th>\n",
       "      <th>Spa</th>\n",
       "      <th>VRDeck</th>\n",
       "    </tr>\n",
       "  </thead>\n",
       "  <tbody>\n",
       "    <tr>\n",
       "      <th>count</th>\n",
       "      <td>8514.000000</td>\n",
       "      <td>8512.000000</td>\n",
       "      <td>8510.000000</td>\n",
       "      <td>8485.000000</td>\n",
       "      <td>8510.000000</td>\n",
       "      <td>8505.000000</td>\n",
       "    </tr>\n",
       "    <tr>\n",
       "      <th>mean</th>\n",
       "      <td>28.827930</td>\n",
       "      <td>224.687617</td>\n",
       "      <td>458.077203</td>\n",
       "      <td>173.729169</td>\n",
       "      <td>311.138778</td>\n",
       "      <td>304.854791</td>\n",
       "    </tr>\n",
       "    <tr>\n",
       "      <th>std</th>\n",
       "      <td>14.489021</td>\n",
       "      <td>666.717663</td>\n",
       "      <td>1611.489240</td>\n",
       "      <td>604.696458</td>\n",
       "      <td>1136.705535</td>\n",
       "      <td>1145.717189</td>\n",
       "    </tr>\n",
       "    <tr>\n",
       "      <th>min</th>\n",
       "      <td>0.000000</td>\n",
       "      <td>0.000000</td>\n",
       "      <td>0.000000</td>\n",
       "      <td>0.000000</td>\n",
       "      <td>0.000000</td>\n",
       "      <td>0.000000</td>\n",
       "    </tr>\n",
       "    <tr>\n",
       "      <th>25%</th>\n",
       "      <td>19.000000</td>\n",
       "      <td>0.000000</td>\n",
       "      <td>0.000000</td>\n",
       "      <td>0.000000</td>\n",
       "      <td>0.000000</td>\n",
       "      <td>0.000000</td>\n",
       "    </tr>\n",
       "    <tr>\n",
       "      <th>50%</th>\n",
       "      <td>27.000000</td>\n",
       "      <td>0.000000</td>\n",
       "      <td>0.000000</td>\n",
       "      <td>0.000000</td>\n",
       "      <td>0.000000</td>\n",
       "      <td>0.000000</td>\n",
       "    </tr>\n",
       "    <tr>\n",
       "      <th>75%</th>\n",
       "      <td>38.000000</td>\n",
       "      <td>47.000000</td>\n",
       "      <td>76.000000</td>\n",
       "      <td>27.000000</td>\n",
       "      <td>59.000000</td>\n",
       "      <td>46.000000</td>\n",
       "    </tr>\n",
       "    <tr>\n",
       "      <th>max</th>\n",
       "      <td>79.000000</td>\n",
       "      <td>14327.000000</td>\n",
       "      <td>29813.000000</td>\n",
       "      <td>23492.000000</td>\n",
       "      <td>22408.000000</td>\n",
       "      <td>24133.000000</td>\n",
       "    </tr>\n",
       "  </tbody>\n",
       "</table>\n",
       "</div>"
      ],
      "text/plain": [
       "               Age   RoomService     FoodCourt  ShoppingMall           Spa  \\\n",
       "count  8514.000000   8512.000000   8510.000000   8485.000000   8510.000000   \n",
       "mean     28.827930    224.687617    458.077203    173.729169    311.138778   \n",
       "std      14.489021    666.717663   1611.489240    604.696458   1136.705535   \n",
       "min       0.000000      0.000000      0.000000      0.000000      0.000000   \n",
       "25%      19.000000      0.000000      0.000000      0.000000      0.000000   \n",
       "50%      27.000000      0.000000      0.000000      0.000000      0.000000   \n",
       "75%      38.000000     47.000000     76.000000     27.000000     59.000000   \n",
       "max      79.000000  14327.000000  29813.000000  23492.000000  22408.000000   \n",
       "\n",
       "             VRDeck  \n",
       "count   8505.000000  \n",
       "mean     304.854791  \n",
       "std     1145.717189  \n",
       "min        0.000000  \n",
       "25%        0.000000  \n",
       "50%        0.000000  \n",
       "75%       46.000000  \n",
       "max    24133.000000  "
      ]
     },
     "execution_count": 5,
     "metadata": {},
     "output_type": "execute_result"
    }
   ],
   "source": [
    "dataset_df.describe()"
   ]
  },
  {
   "cell_type": "code",
   "execution_count": 6,
   "id": "0c8dd3b7",
   "metadata": {
    "execution": {
     "iopub.execute_input": "2023-05-03T05:23:03.404647Z",
     "iopub.status.busy": "2023-05-03T05:23:03.404008Z",
     "iopub.status.idle": "2023-05-03T05:23:03.425105Z",
     "shell.execute_reply": "2023-05-03T05:23:03.423449Z"
    },
    "id": "UmWpnVxQmnjO",
    "papermill": {
     "duration": 0.037995,
     "end_time": "2023-05-03T05:23:03.427618",
     "exception": false,
     "start_time": "2023-05-03T05:23:03.389623",
     "status": "completed"
    },
    "tags": []
   },
   "outputs": [
    {
     "name": "stdout",
     "output_type": "stream",
     "text": [
      "<class 'pandas.core.frame.DataFrame'>\n",
      "RangeIndex: 8693 entries, 0 to 8692\n",
      "Data columns (total 14 columns):\n",
      " #   Column        Non-Null Count  Dtype  \n",
      "---  ------        --------------  -----  \n",
      " 0   PassengerId   8693 non-null   object \n",
      " 1   HomePlanet    8492 non-null   object \n",
      " 2   CryoSleep     8476 non-null   object \n",
      " 3   Cabin         8494 non-null   object \n",
      " 4   Destination   8511 non-null   object \n",
      " 5   Age           8514 non-null   float64\n",
      " 6   VIP           8490 non-null   object \n",
      " 7   RoomService   8512 non-null   float64\n",
      " 8   FoodCourt     8510 non-null   float64\n",
      " 9   ShoppingMall  8485 non-null   float64\n",
      " 10  Spa           8510 non-null   float64\n",
      " 11  VRDeck        8505 non-null   float64\n",
      " 12  Name          8493 non-null   object \n",
      " 13  Transported   8693 non-null   bool   \n",
      "dtypes: bool(1), float64(6), object(7)\n",
      "memory usage: 891.5+ KB\n"
     ]
    }
   ],
   "source": [
    "dataset_df.info()"
   ]
  },
  {
   "cell_type": "markdown",
   "id": "8b0279c4",
   "metadata": {
    "id": "PYbIPVaCmnjO",
    "papermill": {
     "duration": 0.013018,
     "end_time": "2023-05-03T05:23:03.453846",
     "exception": false,
     "start_time": "2023-05-03T05:23:03.440828",
     "status": "completed"
    },
    "tags": []
   },
   "source": [
    "# Bar chart for label column: Transported\n",
    "\n"
   ]
  },
  {
   "cell_type": "code",
   "execution_count": 7,
   "id": "246630c4",
   "metadata": {
    "execution": {
     "iopub.execute_input": "2023-05-03T05:23:03.482075Z",
     "iopub.status.busy": "2023-05-03T05:23:03.481616Z",
     "iopub.status.idle": "2023-05-03T05:23:03.753583Z",
     "shell.execute_reply": "2023-05-03T05:23:03.752592Z"
    },
    "id": "DcaGweARmnjP",
    "papermill": {
     "duration": 0.289056,
     "end_time": "2023-05-03T05:23:03.756074",
     "exception": false,
     "start_time": "2023-05-03T05:23:03.467018",
     "status": "completed"
    },
    "tags": []
   },
   "outputs": [
    {
     "data": {
      "text/plain": [
       "<AxesSubplot:>"
      ]
     },
     "execution_count": 7,
     "metadata": {},
     "output_type": "execute_result"
    },
    {
     "data": {
      "image/png": "[encoded data removed]",
      "text/plain": [
       "<Figure size 640x480 with 1 Axes>"
      ]
     },
     "metadata": {},
     "output_type": "display_data"
    }
   ],
   "source": [
    "plot_df = dataset_df.Transported.value_counts()\n",
    "plot_df.plot(kind=\"bar\")"
   ]
  },
  {
   "cell_type": "markdown",
   "id": "25343974",
   "metadata": {
    "id": "LRO2hJlNmnjP",
    "papermill": {
     "duration": 0.013014,
     "end_time": "2023-05-03T05:23:03.782733",
     "exception": false,
     "start_time": "2023-05-03T05:23:03.769719",
     "status": "completed"
    },
    "tags": []
   },
   "source": [
    "# Numerical data distribution\n",
    "\n",
    "Let us plot all the numerical columns and their value counts:"
   ]
  },
  {
   "cell_type": "code",
   "execution_count": 8,
   "id": "9825144e",
   "metadata": {
    "execution": {
     "iopub.execute_input": "2023-05-03T05:23:03.811707Z",
     "iopub.status.busy": "2023-05-03T05:23:03.811254Z",
     "iopub.status.idle": "2023-05-03T05:23:05.458749Z",
     "shell.execute_reply": "2023-05-03T05:23:05.457712Z"
    },
    "id": "lafxj4fkmnjQ",
    "papermill": {
     "duration": 1.665198,
     "end_time": "2023-05-03T05:23:05.461230",
     "exception": false,
     "start_time": "2023-05-03T05:23:03.796032",
     "status": "completed"
    },
    "tags": []
   },
   "outputs": [
    {
     "data": {
      "image/png": "[encoded data removed]",
      "text/plain": [
       "<Figure size 1000x1000 with 5 Axes>"
      ]
     },
     "metadata": {},
     "output_type": "display_data"
    }
   ],
   "source": [
    "fig, ax = plt.subplots(5,1,  figsize=(10, 10))\n",
    "plt.subplots_adjust(top = 2)\n",
    "\n",
    "sns.histplot(dataset_df['Age'], color='b', bins=50, ax=ax[0]);\n",
    "sns.histplot(dataset_df['FoodCourt'], color='b', bins=50, ax=ax[1]);\n",
    "sns.histplot(dataset_df['ShoppingMall'], color='b', bins=50, ax=ax[2]);\n",
    "sns.histplot(dataset_df['Spa'], color='b', bins=50, ax=ax[3]);\n",
    "sns.histplot(dataset_df['VRDeck'], color='b', bins=50, ax=ax[4]);"
   ]
  },
  {
   "cell_type": "markdown",
   "id": "caae1db0",
   "metadata": {
    "id": "Trlsxv1emnjQ",
    "papermill": {
     "duration": 0.014589,
     "end_time": "2023-05-03T05:23:05.491298",
     "exception": false,
     "start_time": "2023-05-03T05:23:05.476709",
     "status": "completed"
    },
    "tags": []
   },
   "source": [
    "# Prepare the dataset"
   ]
  },
  {
   "cell_type": "markdown",
   "id": "5bed5d5f",
   "metadata": {
    "id": "c-BLN1jcmnjQ",
    "papermill": {
     "duration": 0.01425,
     "end_time": "2023-05-03T05:23:05.520218",
     "exception": false,
     "start_time": "2023-05-03T05:23:05.505968",
     "status": "completed"
    },
    "tags": []
   },
   "source": [
    "We will drop both `PassengerId` and `Name` columns as they are not necessary for model training."
   ]
  },
  {
   "cell_type": "code",
   "execution_count": 9,
   "id": "95149c04",
   "metadata": {
    "execution": {
     "iopub.execute_input": "2023-05-03T05:23:05.552465Z",
     "iopub.status.busy": "2023-05-03T05:23:05.551146Z",
     "iopub.status.idle": "2023-05-03T05:23:05.575355Z",
     "shell.execute_reply": "2023-05-03T05:23:05.573968Z"
    },
    "id": "nftfBG67mnjR",
    "papermill": {
     "duration": 0.043476,
     "end_time": "2023-05-03T05:23:05.578291",
     "exception": false,
     "start_time": "2023-05-03T05:23:05.534815",
     "status": "completed"
    },
    "tags": []
   },
   "outputs": [
    {
     "data": {
      "text/html": [
       "<div>\n",
       "<style scoped>\n",
       "    .dataframe tbody tr th:only-of-type {\n",
       "        vertical-align: middle;\n",
       "    }\n",
       "\n",
       "    .dataframe tbody tr th {\n",
       "        vertical-align: top;\n",
       "    }\n",
       "\n",
       "    .dataframe thead th {\n",
       "        text-align: right;\n",
       "    }\n",
       "</style>\n",
       "<table border=\"1\" class=\"dataframe\">\n",
       "  <thead>\n",
       "    <tr style=\"text-align: right;\">\n",
       "      <th></th>\n",
       "      <th>HomePlanet</th>\n",
       "      <th>CryoSleep</th>\n",
       "      <th>Cabin</th>\n",
       "      <th>Destination</th>\n",
       "      <th>Age</th>\n",
       "      <th>VIP</th>\n",
       "      <th>RoomService</th>\n",
       "      <th>FoodCourt</th>\n",
       "      <th>ShoppingMall</th>\n",
       "      <th>Spa</th>\n",
       "      <th>VRDeck</th>\n",
       "      <th>Transported</th>\n",
       "    </tr>\n",
       "  </thead>\n",
       "  <tbody>\n",
       "    <tr>\n",
       "      <th>0</th>\n",
       "      <td>Europa</td>\n",
       "      <td>False</td>\n",
       "      <td>B/0/P</td>\n",
       "      <td>TRAPPIST-1e</td>\n",
       "      <td>39.0</td>\n",
       "      <td>False</td>\n",
       "      <td>0.0</td>\n",
       "      <td>0.0</td>\n",
       "      <td>0.0</td>\n",
       "      <td>0.0</td>\n",
       "      <td>0.0</td>\n",
       "      <td>False</td>\n",
       "    </tr>\n",
       "    <tr>\n",
       "      <th>1</th>\n",
       "      <td>Earth</td>\n",
       "      <td>False</td>\n",
       "      <td>F/0/S</td>\n",
       "      <td>TRAPPIST-1e</td>\n",
       "      <td>24.0</td>\n",
       "      <td>False</td>\n",
       "      <td>109.0</td>\n",
       "      <td>9.0</td>\n",
       "      <td>25.0</td>\n",
       "      <td>549.0</td>\n",
       "      <td>44.0</td>\n",
       "      <td>True</td>\n",
       "    </tr>\n",
       "    <tr>\n",
       "      <th>2</th>\n",
       "      <td>Europa</td>\n",
       "      <td>False</td>\n",
       "      <td>A/0/S</td>\n",
       "      <td>TRAPPIST-1e</td>\n",
       "      <td>58.0</td>\n",
       "      <td>True</td>\n",
       "      <td>43.0</td>\n",
       "      <td>3576.0</td>\n",
       "      <td>0.0</td>\n",
       "      <td>6715.0</td>\n",
       "      <td>49.0</td>\n",
       "      <td>False</td>\n",
       "    </tr>\n",
       "    <tr>\n",
       "      <th>3</th>\n",
       "      <td>Europa</td>\n",
       "      <td>False</td>\n",
       "      <td>A/0/S</td>\n",
       "      <td>TRAPPIST-1e</td>\n",
       "      <td>33.0</td>\n",
       "      <td>False</td>\n",
       "      <td>0.0</td>\n",
       "      <td>1283.0</td>\n",
       "      <td>371.0</td>\n",
       "      <td>3329.0</td>\n",
       "      <td>193.0</td>\n",
       "      <td>False</td>\n",
       "    </tr>\n",
       "    <tr>\n",
       "      <th>4</th>\n",
       "      <td>Earth</td>\n",
       "      <td>False</td>\n",
       "      <td>F/1/S</td>\n",
       "      <td>TRAPPIST-1e</td>\n",
       "      <td>16.0</td>\n",
       "      <td>False</td>\n",
       "      <td>303.0</td>\n",
       "      <td>70.0</td>\n",
       "      <td>151.0</td>\n",
       "      <td>565.0</td>\n",
       "      <td>2.0</td>\n",
       "      <td>True</td>\n",
       "    </tr>\n",
       "  </tbody>\n",
       "</table>\n",
       "</div>"
      ],
      "text/plain": [
       "  HomePlanet CryoSleep  Cabin  Destination   Age    VIP  RoomService  \\\n",
       "0     Europa     False  B/0/P  TRAPPIST-1e  39.0  False          0.0   \n",
       "1      Earth     False  F/0/S  TRAPPIST-1e  24.0  False        109.0   \n",
       "2     Europa     False  A/0/S  TRAPPIST-1e  58.0   True         43.0   \n",
       "3     Europa     False  A/0/S  TRAPPIST-1e  33.0  False          0.0   \n",
       "4      Earth     False  F/1/S  TRAPPIST-1e  16.0  False        303.0   \n",
       "\n",
       "   FoodCourt  ShoppingMall     Spa  VRDeck  Transported  \n",
       "0        0.0           0.0     0.0     0.0        False  \n",
       "1        9.0          25.0   549.0    44.0         True  \n",
       "2     3576.0           0.0  6715.0    49.0        False  \n",
       "3     1283.0         371.0  3329.0   193.0        False  \n",
       "4       70.0         151.0   565.0     2.0         True  "
      ]
     },
     "execution_count": 9,
     "metadata": {},
     "output_type": "execute_result"
    }
   ],
   "source": [
    "dataset_df = dataset_df.drop(['PassengerId', 'Name'], axis=1)\n",
    "dataset_df.head(5)"
   ]
  },
  {
   "cell_type": "markdown",
   "id": "2ff3a6b6",
   "metadata": {
    "id": "pXhbIKCemnjR",
    "papermill": {
     "duration": 0.014608,
     "end_time": "2023-05-03T05:23:05.608043",
     "exception": false,
     "start_time": "2023-05-03T05:23:05.593435",
     "status": "completed"
    },
    "tags": []
   },
   "source": [
    "We will check for the missing values using the following code:"
   ]
  },
  {
   "cell_type": "code",
   "execution_count": 10,
   "id": "89a8f5d0",
   "metadata": {
    "execution": {
     "iopub.execute_input": "2023-05-03T05:23:05.640147Z",
     "iopub.status.busy": "2023-05-03T05:23:05.639736Z",
     "iopub.status.idle": "2023-05-03T05:23:05.653278Z",
     "shell.execute_reply": "2023-05-03T05:23:05.652005Z"
    },
    "id": "3_VMZ9a1mnjR",
    "papermill": {
     "duration": 0.032691,
     "end_time": "2023-05-03T05:23:05.655821",
     "exception": false,
     "start_time": "2023-05-03T05:23:05.623130",
     "status": "completed"
    },
    "tags": []
   },
   "outputs": [
    {
     "data": {
      "text/plain": [
       "CryoSleep       217\n",
       "ShoppingMall    208\n",
       "VIP             203\n",
       "HomePlanet      201\n",
       "Cabin           199\n",
       "VRDeck          188\n",
       "FoodCourt       183\n",
       "Spa             183\n",
       "Destination     182\n",
       "RoomService     181\n",
       "Age             179\n",
       "Transported       0\n",
       "dtype: int64"
      ]
     },
     "execution_count": 10,
     "metadata": {},
     "output_type": "execute_result"
    }
   ],
   "source": [
    "dataset_df.isnull().sum().sort_values(ascending=False)"
   ]
  },
  {
   "cell_type": "markdown",
   "id": "12af187c",
   "metadata": {
    "id": "vlWOQl4fmnjS",
    "papermill": {
     "duration": 0.014568,
     "end_time": "2023-05-03T05:23:05.685488",
     "exception": false,
     "start_time": "2023-05-03T05:23:05.670920",
     "status": "completed"
    },
    "tags": []
   },
   "source": [
    "This dataset contains a mix of numeric, categorical and missing features. TF-DF supports all these feature types natively, and no preprocessing is required.\n",
    "\n",
    "But this datatset also has boolean fields with missing values. TF-DF doesn't support boolean fields yet. So we need to convert those fields into int. To account for the missing values in the boolean fields, we will replace them with zero.\n",
    "\n",
    "In this notebook, we will replace null value entries with zero for numerical columns as well and only let TF-DF handle the missing values in categorical columns.\n",
    "\n",
    "Note: You can choose to let TF-DF handle missing values in numerical columns if need be."
   ]
  },
  {
   "cell_type": "code",
   "execution_count": 11,
   "id": "e85bc6b3",
   "metadata": {
    "execution": {
     "iopub.execute_input": "2023-05-03T05:23:05.718213Z",
     "iopub.status.busy": "2023-05-03T05:23:05.716992Z",
     "iopub.status.idle": "2023-05-03T05:23:05.737989Z",
     "shell.execute_reply": "2023-05-03T05:23:05.736703Z"
    },
    "id": "ASQ5Bh2JmnjS",
    "papermill": {
     "duration": 0.040075,
     "end_time": "2023-05-03T05:23:05.740515",
     "exception": false,
     "start_time": "2023-05-03T05:23:05.700440",
     "status": "completed"
    },
    "tags": []
   },
   "outputs": [
    {
     "data": {
      "text/plain": [
       "HomePlanet      201\n",
       "Cabin           199\n",
       "Destination     182\n",
       "RoomService     181\n",
       "Age             179\n",
       "CryoSleep         0\n",
       "VIP               0\n",
       "FoodCourt         0\n",
       "ShoppingMall      0\n",
       "Spa               0\n",
       "VRDeck            0\n",
       "Transported       0\n",
       "dtype: int64"
      ]
     },
     "execution_count": 11,
     "metadata": {},
     "output_type": "execute_result"
    }
   ],
   "source": [
    "dataset_df[['VIP', 'CryoSleep', 'FoodCourt', 'ShoppingMall', 'Spa', 'VRDeck']] = dataset_df[['VIP', 'CryoSleep', 'FoodCourt', 'ShoppingMall', 'Spa', 'VRDeck']].fillna(value=0)\n",
    "dataset_df.isnull().sum().sort_values(ascending=False)"
   ]
  },
  {
   "cell_type": "markdown",
   "id": "196e02f5",
   "metadata": {
    "id": "tFbE6D0BmnjT",
    "papermill": {
     "duration": 0.015248,
     "end_time": "2023-05-03T05:23:05.771975",
     "exception": false,
     "start_time": "2023-05-03T05:23:05.756727",
     "status": "completed"
    },
    "tags": []
   },
   "source": [
    "Since, TF-DF cannot handle boolean columns, we will have to adjust the labels in column `Transported` to convert them into the integer format that TF-DF expects."
   ]
  },
  {
   "cell_type": "code",
   "execution_count": 12,
   "id": "70a7ce38",
   "metadata": {
    "execution": {
     "iopub.execute_input": "2023-05-03T05:23:05.805553Z",
     "iopub.status.busy": "2023-05-03T05:23:05.804475Z",
     "iopub.status.idle": "2023-05-03T05:23:05.810717Z",
     "shell.execute_reply": "2023-05-03T05:23:05.809868Z"
    },
    "id": "-T6a_RTxmnjT",
    "papermill": {
     "duration": 0.025205,
     "end_time": "2023-05-03T05:23:05.812909",
     "exception": false,
     "start_time": "2023-05-03T05:23:05.787704",
     "status": "completed"
    },
    "tags": []
   },
   "outputs": [],
   "source": [
    "label = \"Transported\"\n",
    "dataset_df[label] = dataset_df[label].astype(int)"
   ]
  },
  {
   "cell_type": "markdown",
   "id": "f00d79db",
   "metadata": {
    "id": "F6-GATuzmnjU",
    "papermill": {
     "duration": 0.014978,
     "end_time": "2023-05-03T05:23:05.843059",
     "exception": false,
     "start_time": "2023-05-03T05:23:05.828081",
     "status": "completed"
    },
    "tags": []
   },
   "source": [
    "We will also convert the boolean fields `CryoSleep` and `VIP` to int."
   ]
  },
  {
   "cell_type": "code",
   "execution_count": 13,
   "id": "6524356d",
   "metadata": {
    "execution": {
     "iopub.execute_input": "2023-05-03T05:23:05.875417Z",
     "iopub.status.busy": "2023-05-03T05:23:05.874959Z",
     "iopub.status.idle": "2023-05-03T05:23:05.883656Z",
     "shell.execute_reply": "2023-05-03T05:23:05.882671Z"
    },
    "id": "Wq6PbMnnmnjU",
    "papermill": {
     "duration": 0.028064,
     "end_time": "2023-05-03T05:23:05.886221",
     "exception": false,
     "start_time": "2023-05-03T05:23:05.858157",
     "status": "completed"
    },
    "tags": []
   },
   "outputs": [],
   "source": [
    "dataset_df['VIP'] = dataset_df['VIP'].astype(int)\n",
    "dataset_df['CryoSleep'] = dataset_df['CryoSleep'].astype(int)"
   ]
  },
  {
   "cell_type": "markdown",
   "id": "84f1093b",
   "metadata": {
    "id": "enjp51h_mnjV",
    "papermill": {
     "duration": 0.014731,
     "end_time": "2023-05-03T05:23:05.916097",
     "exception": false,
     "start_time": "2023-05-03T05:23:05.901366",
     "status": "completed"
    },
    "tags": []
   },
   "source": [
    "The value of column `Cabin` is a string with the format `Deck/Cabin_num/Side`. Here we will split the `Cabin` column and create 3 new columns `Deck`, `Cabin_num` and `Side`, since it will be easier to train the model on those individual data.\n",
    "\n",
    "Run the following command to split the column `Cabin` into columns `Deck`, `Cabin_num` and `Side`"
   ]
  },
  {
   "cell_type": "code",
   "execution_count": 14,
   "id": "e8f790ee",
   "metadata": {
    "execution": {
     "iopub.execute_input": "2023-05-03T05:23:05.949533Z",
     "iopub.status.busy": "2023-05-03T05:23:05.948340Z",
     "iopub.status.idle": "2023-05-03T05:23:05.972394Z",
     "shell.execute_reply": "2023-05-03T05:23:05.971087Z"
    },
    "id": "JeAuUvb_mnjV",
    "papermill": {
     "duration": 0.044205,
     "end_time": "2023-05-03T05:23:05.975372",
     "exception": false,
     "start_time": "2023-05-03T05:23:05.931167",
     "status": "completed"
    },
    "tags": []
   },
   "outputs": [],
   "source": [
    "dataset_df[[\"Deck\", \"Cabin_num\", \"Side\"]] = dataset_df[\"Cabin\"].str.split(\"/\", expand=True)"
   ]
  },
  {
   "cell_type": "markdown",
   "id": "ce018519",
   "metadata": {
    "id": "vNYEd1AkmnjV",
    "papermill": {
     "duration": 0.014656,
     "end_time": "2023-05-03T05:23:06.005271",
     "exception": false,
     "start_time": "2023-05-03T05:23:05.990615",
     "status": "completed"
    },
    "tags": []
   },
   "source": [
    "Remove original `Cabin` column from the dataset since it's not needed anymore."
   ]
  },
  {
   "cell_type": "code",
   "execution_count": 15,
   "id": "1c30075e",
   "metadata": {
    "execution": {
     "iopub.execute_input": "2023-05-03T05:23:06.037618Z",
     "iopub.status.busy": "2023-05-03T05:23:06.037146Z",
     "iopub.status.idle": "2023-05-03T05:23:06.046595Z",
     "shell.execute_reply": "2023-05-03T05:23:06.045323Z"
    },
    "id": "dOcny3s4mnjV",
    "papermill": {
     "duration": 0.029471,
     "end_time": "2023-05-03T05:23:06.049730",
     "exception": false,
     "start_time": "2023-05-03T05:23:06.020259",
     "status": "completed"
    },
    "tags": []
   },
   "outputs": [],
   "source": [
    "try:\n",
    "    dataset_df = dataset_df.drop('Cabin', axis=1)\n",
    "except KeyError:\n",
    "    print(\"Field does not exist\")"
   ]
  },
  {
   "cell_type": "markdown",
   "id": "897b635c",
   "metadata": {
    "id": "Y7byxj5FmnjW",
    "papermill": {
     "duration": 0.014933,
     "end_time": "2023-05-03T05:23:06.079975",
     "exception": false,
     "start_time": "2023-05-03T05:23:06.065042",
     "status": "completed"
    },
    "tags": []
   },
   "source": [
    "Let us display the first 5 examples from the prepared dataset."
   ]
  },
  {
   "cell_type": "code",
   "execution_count": 16,
   "id": "eca1b917",
   "metadata": {
    "execution": {
     "iopub.execute_input": "2023-05-03T05:23:06.112469Z",
     "iopub.status.busy": "2023-05-03T05:23:06.111996Z",
     "iopub.status.idle": "2023-05-03T05:23:06.135035Z",
     "shell.execute_reply": "2023-05-03T05:23:06.133594Z"
    },
    "id": "g0U1OKAYmnjW",
    "papermill": {
     "duration": 0.0425,
     "end_time": "2023-05-03T05:23:06.137573",
     "exception": false,
     "start_time": "2023-05-03T05:23:06.095073",
     "status": "completed"
    },
    "tags": []
   },
   "outputs": [
    {
     "data": {
      "text/html": [
       "<div>\n",
       "<style scoped>\n",
       "    .dataframe tbody tr th:only-of-type {\n",
       "        vertical-align: middle;\n",
       "    }\n",
       "\n",
       "    .dataframe tbody tr th {\n",
       "        vertical-align: top;\n",
       "    }\n",
       "\n",
       "    .dataframe thead th {\n",
       "        text-align: right;\n",
       "    }\n",
       "</style>\n",
       "<table border=\"1\" class=\"dataframe\">\n",
       "  <thead>\n",
       "    <tr style=\"text-align: right;\">\n",
       "      <th></th>\n",
       "      <th>HomePlanet</th>\n",
       "      <th>CryoSleep</th>\n",
       "      <th>Destination</th>\n",
       "      <th>Age</th>\n",
       "      <th>VIP</th>\n",
       "      <th>RoomService</th>\n",
       "      <th>FoodCourt</th>\n",
       "      <th>ShoppingMall</th>\n",
       "      <th>Spa</th>\n",
       "      <th>VRDeck</th>\n",
       "      <th>Transported</th>\n",
       "      <th>Deck</th>\n",
       "      <th>Cabin_num</th>\n",
       "      <th>Side</th>\n",
       "    </tr>\n",
       "  </thead>\n",
       "  <tbody>\n",
       "    <tr>\n",
       "      <th>0</th>\n",
       "      <td>Europa</td>\n",
       "      <td>0</td>\n",
       "      <td>TRAPPIST-1e</td>\n",
       "      <td>39.0</td>\n",
       "      <td>0</td>\n",
       "      <td>0.0</td>\n",
       "      <td>0.0</td>\n",
       "      <td>0.0</td>\n",
       "      <td>0.0</td>\n",
       "      <td>0.0</td>\n",
       "      <td>0</td>\n",
       "      <td>B</td>\n",
       "      <td>0</td>\n",
       "      <td>P</td>\n",
       "    </tr>\n",
       "    <tr>\n",
       "      <th>1</th>\n",
       "      <td>Earth</td>\n",
       "      <td>0</td>\n",
       "      <td>TRAPPIST-1e</td>\n",
       "      <td>24.0</td>\n",
       "      <td>0</td>\n",
       "      <td>109.0</td>\n",
       "      <td>9.0</td>\n",
       "      <td>25.0</td>\n",
       "      <td>549.0</td>\n",
       "      <td>44.0</td>\n",
       "      <td>1</td>\n",
       "      <td>F</td>\n",
       "      <td>0</td>\n",
       "      <td>S</td>\n",
       "    </tr>\n",
       "    <tr>\n",
       "      <th>2</th>\n",
       "      <td>Europa</td>\n",
       "      <td>0</td>\n",
       "      <td>TRAPPIST-1e</td>\n",
       "      <td>58.0</td>\n",
       "      <td>1</td>\n",
       "      <td>43.0</td>\n",
       "      <td>3576.0</td>\n",
       "      <td>0.0</td>\n",
       "      <td>6715.0</td>\n",
       "      <td>49.0</td>\n",
       "      <td>0</td>\n",
       "      <td>A</td>\n",
       "      <td>0</td>\n",
       "      <td>S</td>\n",
       "    </tr>\n",
       "    <tr>\n",
       "      <th>3</th>\n",
       "      <td>Europa</td>\n",
       "      <td>0</td>\n",
       "      <td>TRAPPIST-1e</td>\n",
       "      <td>33.0</td>\n",
       "      <td>0</td>\n",
       "      <td>0.0</td>\n",
       "      <td>1283.0</td>\n",
       "      <td>371.0</td>\n",
       "      <td>3329.0</td>\n",
       "      <td>193.0</td>\n",
       "      <td>0</td>\n",
       "      <td>A</td>\n",
       "      <td>0</td>\n",
       "      <td>S</td>\n",
       "    </tr>\n",
       "    <tr>\n",
       "      <th>4</th>\n",
       "      <td>Earth</td>\n",
       "      <td>0</td>\n",
       "      <td>TRAPPIST-1e</td>\n",
       "      <td>16.0</td>\n",
       "      <td>0</td>\n",
       "      <td>303.0</td>\n",
       "      <td>70.0</td>\n",
       "      <td>151.0</td>\n",
       "      <td>565.0</td>\n",
       "      <td>2.0</td>\n",
       "      <td>1</td>\n",
       "      <td>F</td>\n",
       "      <td>1</td>\n",
       "      <td>S</td>\n",
       "    </tr>\n",
       "  </tbody>\n",
       "</table>\n",
       "</div>"
      ],
      "text/plain": [
       "  HomePlanet  CryoSleep  Destination   Age  VIP  RoomService  FoodCourt  \\\n",
       "0     Europa          0  TRAPPIST-1e  39.0    0          0.0        0.0   \n",
       "1      Earth          0  TRAPPIST-1e  24.0    0        109.0        9.0   \n",
       "2     Europa          0  TRAPPIST-1e  58.0    1         43.0     3576.0   \n",
       "3     Europa          0  TRAPPIST-1e  33.0    0          0.0     1283.0   \n",
       "4      Earth          0  TRAPPIST-1e  16.0    0        303.0       70.0   \n",
       "\n",
       "   ShoppingMall     Spa  VRDeck  Transported Deck Cabin_num Side  \n",
       "0           0.0     0.0     0.0            0    B         0    P  \n",
       "1          25.0   549.0    44.0            1    F         0    S  \n",
       "2           0.0  6715.0    49.0            0    A         0    S  \n",
       "3         371.0  3329.0   193.0            0    A         0    S  \n",
       "4         151.0   565.0     2.0            1    F         1    S  "
      ]
     },
     "execution_count": 16,
     "metadata": {},
     "output_type": "execute_result"
    }
   ],
   "source": [
    "dataset_df.head(5)"
   ]
  },
  {
   "cell_type": "markdown",
   "id": "dc48fbae",
   "metadata": {
    "id": "l6EmJsSfmnjW",
    "papermill": {
     "duration": 0.015198,
     "end_time": "2023-05-03T05:23:06.168608",
     "exception": false,
     "start_time": "2023-05-03T05:23:06.153410",
     "status": "completed"
    },
    "tags": []
   },
   "source": [
    "Now let us split the dataset into training and testing datasets:"
   ]
  },
  {
   "cell_type": "code",
   "execution_count": 17,
   "id": "865abf3e",
   "metadata": {
    "execution": {
     "iopub.execute_input": "2023-05-03T05:23:06.201433Z",
     "iopub.status.busy": "2023-05-03T05:23:06.201022Z",
     "iopub.status.idle": "2023-05-03T05:23:06.211524Z",
     "shell.execute_reply": "2023-05-03T05:23:06.210133Z"
    },
    "id": "_drMgwAAmnjX",
    "papermill": {
     "duration": 0.030144,
     "end_time": "2023-05-03T05:23:06.214088",
     "exception": false,
     "start_time": "2023-05-03T05:23:06.183944",
     "status": "completed"
    },
    "tags": []
   },
   "outputs": [
    {
     "name": "stdout",
     "output_type": "stream",
     "text": [
      "6998 examples in training, 1695 examples in testing.\n"
     ]
    }
   ],
   "source": [
    "def split_dataset(dataset, test_ratio=0.20):\n",
    "  test_indices = np.random.rand(len(dataset)) < test_ratio\n",
    "  return dataset[~test_indices], dataset[test_indices]\n",
    "\n",
    "train_ds_pd, valid_ds_pd = split_dataset(dataset_df)\n",
    "print(\"{} examples in training, {} examples in testing.\".format(\n",
    "    len(train_ds_pd), len(valid_ds_pd)))"
   ]
  },
  {
   "cell_type": "markdown",
   "id": "d38981b7",
   "metadata": {
    "id": "_gg4nfB1mnjX",
    "papermill": {
     "duration": 0.015378,
     "end_time": "2023-05-03T05:23:06.245003",
     "exception": false,
     "start_time": "2023-05-03T05:23:06.229625",
     "status": "completed"
    },
    "tags": []
   },
   "source": [
    "There's one more step required before we can train the model. We need to convert the datatset from Pandas format (`pd.DataFrame`) into TensorFlow Datasets format (`tf.data.Dataset`).\n",
    "\n",
    "[TensorFlow Datasets](https://www.tensorflow.org/datasets/overview) is a high performance data loading library which is helpful when training neural networks with accelerators like GPUs and TPUs."
   ]
  },
  {
   "cell_type": "code",
   "execution_count": 18,
   "id": "686739fa",
   "metadata": {
    "execution": {
     "iopub.execute_input": "2023-05-03T05:23:06.278431Z",
     "iopub.status.busy": "2023-05-03T05:23:06.278018Z",
     "iopub.status.idle": "2023-05-03T05:23:06.452598Z",
     "shell.execute_reply": "2023-05-03T05:23:06.451355Z"
    },
    "id": "LZADOplXmnjX",
    "papermill": {
     "duration": 0.195012,
     "end_time": "2023-05-03T05:23:06.455692",
     "exception": false,
     "start_time": "2023-05-03T05:23:06.260680",
     "status": "completed"
    },
    "tags": []
   },
   "outputs": [],
   "source": [
    "train_ds = tfdf.keras.pd_dataframe_to_tf_dataset(train_ds_pd, label=label)\n",
    "valid_ds = tfdf.keras.pd_dataframe_to_tf_dataset(valid_ds_pd, label=label)"
   ]
  },
  {
   "cell_type": "markdown",
   "id": "f2cb5aca",
   "metadata": {
    "id": "0-xUiOTwmnjY",
    "papermill": {
     "duration": 0.015362,
     "end_time": "2023-05-03T05:23:06.486654",
     "exception": false,
     "start_time": "2023-05-03T05:23:06.471292",
     "status": "completed"
    },
    "tags": []
   },
   "source": [
    "# Select a Model\n",
    "\n",
    "There are several tree-based models for you to choose from.\n",
    "\n",
    "* RandomForestModel\n",
    "* GradientBoostedTreesModel\n",
    "* CartModel\n",
    "* DistributedGradientBoostedTreesModel\n",
    "\n",
    "To start, we'll work with a Random Forest. This is the most well-known of the Decision Forest training algorithms.\n",
    "\n",
    "A Random Forest is a collection of decision trees, each trained independently on a random subset of the training dataset (sampled with replacement). The algorithm is unique in that it is robust to overfitting, and easy to use.\n",
    "\n",
    "We can list the all the available models in TensorFlow Decision Forests using the following code:"
   ]
  },
  {
   "cell_type": "code",
   "execution_count": 19,
   "id": "b967c868",
   "metadata": {
    "execution": {
     "iopub.execute_input": "2023-05-03T05:23:06.519526Z",
     "iopub.status.busy": "2023-05-03T05:23:06.519067Z",
     "iopub.status.idle": "2023-05-03T05:23:06.526422Z",
     "shell.execute_reply": "2023-05-03T05:23:06.525289Z"
    },
    "id": "PdQw1cWbmnjY",
    "papermill": {
     "duration": 0.026929,
     "end_time": "2023-05-03T05:23:06.528894",
     "exception": false,
     "start_time": "2023-05-03T05:23:06.501965",
     "status": "completed"
    },
    "tags": []
   },
   "outputs": [
    {
     "data": {
      "text/plain": [
       "[tensorflow_decision_forests.keras.RandomForestModel,\n",
       " tensorflow_decision_forests.keras.GradientBoostedTreesModel,\n",
       " tensorflow_decision_forests.keras.CartModel,\n",
       " tensorflow_decision_forests.keras.DistributedGradientBoostedTreesModel]"
      ]
     },
     "execution_count": 19,
     "metadata": {},
     "output_type": "execute_result"
    }
   ],
   "source": [
    "tfdf.keras.get_all_models()"
   ]
  },
  {
   "cell_type": "markdown",
   "id": "40b336f9",
   "metadata": {
    "id": "sy81fpfxmnjY",
    "papermill": {
     "duration": 0.015814,
     "end_time": "2023-05-03T05:23:06.560190",
     "exception": false,
     "start_time": "2023-05-03T05:23:06.544376",
     "status": "completed"
    },
    "tags": []
   },
   "source": [
    "# Configure the model\n",
    "\n",
    "TensorFlow Decision Forests provides good defaults for you (e.g. the top ranking hyperparameters on our benchmarks, slightly modified to run in reasonable time). If you would like to configure the learning algorithm, you will find many options you can explore to get the highest possible accuracy.\n",
    "\n",
    "You can select a template and/or set parameters as follows:\n",
    "\n",
    "```rf = tfdf.keras.RandomForestModel(hyperparameter_template=\"benchmark_rank1\")```\n",
    "\n",
    "Read more [here](https://www.tensorflow.org/decision_forests/api_docs/python/tfdf/keras/RandomForestModel)."
   ]
  },
  {
   "cell_type": "markdown",
   "id": "708be2d6",
   "metadata": {
    "id": "AfJMCA6lmnjZ",
    "papermill": {
     "duration": 0.01519,
     "end_time": "2023-05-03T05:23:06.590999",
     "exception": false,
     "start_time": "2023-05-03T05:23:06.575809",
     "status": "completed"
    },
    "tags": []
   },
   "source": [
    "# Create a Random Forest\n",
    "\n",
    "Today, we will use the defaults to create the Random Forest Model. By default the model is set to train for a classification task."
   ]
  },
  {
   "cell_type": "markdown",
   "id": "1ebc107d",
   "metadata": {
    "papermill": {
     "duration": 0.016402,
     "end_time": "2023-05-03T05:23:06.623279",
     "exception": false,
     "start_time": "2023-05-03T05:23:06.606877",
     "status": "completed"
    },
    "tags": []
   },
   "source": []
  },
  {
   "cell_type": "code",
   "execution_count": 20,
   "id": "22e4ad9c",
   "metadata": {
    "execution": {
     "iopub.execute_input": "2023-05-03T05:23:06.656770Z",
     "iopub.status.busy": "2023-05-03T05:23:06.655773Z",
     "iopub.status.idle": "2023-05-03T05:23:06.713515Z",
     "shell.execute_reply": "2023-05-03T05:23:06.712410Z"
    },
    "id": "j7-gFVDNmnjZ",
    "papermill": {
     "duration": 0.077377,
     "end_time": "2023-05-03T05:23:06.716235",
     "exception": false,
     "start_time": "2023-05-03T05:23:06.638858",
     "status": "completed"
    },
    "tags": []
   },
   "outputs": [
    {
     "name": "stdout",
     "output_type": "stream",
     "text": [
      "Use /tmp/tmpijhscffq as temporary training directory\n"
     ]
    }
   ],
   "source": [
    "rf = tfdf.keras.RandomForestModel()\n",
    "rf.compile(metrics=[\"accuracy\"]) # Optional, you can use this to include a list of eval metrics"
   ]
  },
  {
   "cell_type": "markdown",
   "id": "d377500e",
   "metadata": {
    "id": "wEQXtv4MmnjZ",
    "papermill": {
     "duration": 0.016563,
     "end_time": "2023-05-03T05:23:06.748521",
     "exception": false,
     "start_time": "2023-05-03T05:23:06.731958",
     "status": "completed"
    },
    "tags": []
   },
   "source": [
    "# Train the model\n",
    "\n",
    "We will train the model using a one-liner.\n",
    "\n",
    "Note: you may see a warning about Autograph. You can safely ignore this, it will be fixed in the next release."
   ]
  },
  {
   "cell_type": "code",
   "execution_count": 21,
   "id": "4ecb5a40",
   "metadata": {
    "execution": {
     "iopub.execute_input": "2023-05-03T05:23:06.782366Z",
     "iopub.status.busy": "2023-05-03T05:23:06.781608Z",
     "iopub.status.idle": "2023-05-03T05:24:34.657447Z",
     "shell.execute_reply": "2023-05-03T05:24:34.656240Z"
    },
    "id": "QcL5KRyLmnja",
    "papermill": {
     "duration": 87.896452,
     "end_time": "2023-05-03T05:24:34.660458",
     "exception": false,
     "start_time": "2023-05-03T05:23:06.764006",
     "status": "completed"
    },
    "tags": []
   },
   "outputs": [
    {
     "name": "stdout",
     "output_type": "stream",
     "text": [
      "Reading training dataset...\n",
      "Training dataset read in 0:00:06.009159. Found 6998 examples.\n",
      "Training model...\n"
     ]
    },
    {
     "name": "stderr",
     "output_type": "stream",
     "text": [
      "[INFO 2023-05-03T05:24:06.937242451+00:00 kernel.cc:1214] Loading model from path /tmp/tmpijhscffq/model/ with prefix 3f673b4b8ae14b46\n"
     ]
    },
    {
     "name": "stdout",
     "output_type": "stream",
     "text": [
      "Model trained in 0:00:55.367597\n",
      "Compiling model...\n"
     ]
    },
    {
     "name": "stderr",
     "output_type": "stream",
     "text": [
      "[INFO 2023-05-03T05:24:08.067643264+00:00 decision_forest.cc:661] Model loaded with 300 root(s), 230512 node(s), and 13 input feature(s).\n",
      "[INFO 2023-05-03T05:24:08.067697656+00:00 abstract_model.cc:1311] Engine \"RandomForestGeneric\" built\n",
      "[INFO 2023-05-03T05:24:08.067742101+00:00 kernel.cc:1046] Use fast generic engine\n"
     ]
    },
    {
     "name": "stdout",
     "output_type": "stream",
     "text": [
      "WARNING: AutoGraph could not transform <function simple_ml_inference_op_with_handle at 0x77567351def0> and will run it as-is.\n",
      "Please report this to the TensorFlow team. When filing the bug, set the verbosity to 10 (on Linux, `export AUTOGRAPH_VERBOSITY=10`) and attach the full output.\n",
      "Cause: could not get source code\n",
      "To silence this warning, decorate the function with @tf.autograph.experimental.do_not_convert\n",
      "Model compiled.\n"
     ]
    },
    {
     "data": {
      "text/plain": [
       "<keras.callbacks.History at 0x77566555ec50>"
      ]
     },
     "execution_count": 21,
     "metadata": {},
     "output_type": "execute_result"
    }
   ],
   "source": [
    "rf.fit(x=train_ds)"
   ]
  },
  {
   "cell_type": "markdown",
   "id": "aec5f773",
   "metadata": {
    "id": "HQaPDLBjmnja",
    "papermill": {
     "duration": 0.016109,
     "end_time": "2023-05-03T05:24:34.693110",
     "exception": false,
     "start_time": "2023-05-03T05:24:34.677001",
     "status": "completed"
    },
    "tags": []
   },
   "source": [
    "# Visualize the model\n",
    "One benefit of tree-based models is that we can easily visualize them. The default number of trees used in the Random Forests is 300. We can select a tree to display below."
   ]
  },
  {
   "cell_type": "code",
   "execution_count": 22,
   "id": "efaa6d14",
   "metadata": {
    "execution": {
     "iopub.execute_input": "2023-05-03T05:24:34.728811Z",
     "iopub.status.busy": "2023-05-03T05:24:34.728362Z",
     "iopub.status.idle": "2023-05-03T05:24:35.182133Z",
     "shell.execute_reply": "2023-05-03T05:24:35.180896Z"
    },
    "id": "hSao4Qstmnja",
    "papermill": {
     "duration": 0.47466,
     "end_time": "2023-05-03T05:24:35.184581",
     "exception": false,
     "start_time": "2023-05-03T05:24:34.709921",
     "status": "completed"
    },
    "tags": []
   },
   "outputs": [
    {
     "data": {
      "text/html": [
       "\n",
       "<script src=\"https://d3js.org/d3.v6.min.js\"></script>\n",
       "<div id=\"tree_plot_d76893a96d4141a4ba808a80b7f4fbf1\"></div>\n",
       "<script>\n",
       "/*\n",
       " * Copyright 2021 Google LLC.\n",
       " * Licensed under the Apache License, Version 2.0 (the \"License\");\n",
       " * you may not use this file except in compliance with the License.\n",
       " * You may obtain a copy of the License at\n",
       " *\n",
       " *     https://www.apache.org/licenses/LICENSE-2.0\n",
       " *\n",
       " * Unless required by applicable law or agreed to in writing, software\n",
       " * distributed under the License is distributed on an \"AS IS\" BASIS,\n",
       " * WITHOUT WARRANTIES OR CONDITIONS OF ANY KIND, either express or implied.\n",
       " * See the License for the specific language governing permissions and\n",
       " * limitations under the License.\n",
       " */\n",
       "\n",
       "/**\n",
       " *  Plotting of decision trees generated by TF-DF.\n",
       " *\n",
       " *  A tree is a recursive structure of node objects.\n",
       " *  A node contains one or more of the following components:\n",
       " *\n",
       " *    - A value: Representing the output of the node. If the node is not a leaf,\n",
       " *      the value is only present for analysis i.e. it is not used for\n",
       " *      predictions.\n",
       " *\n",
       " *    - A condition : For non-leaf nodes, the condition (also known as split)\n",
       " *      defines a binary test to branch to the positive or negative child.\n",
       " *\n",
       " *    - An explanation: Generally a plot showing the relation between the label\n",
       " *      and the condition to give insights about the effect of the condition.\n",
       " *\n",
       " *    - Two children : For non-leaf nodes, the children nodes. The first\n",
       " *      children (i.e. \"node.children[0]\") is the negative children (drawn in\n",
       " *      red). The second children is the positive one (drawn in green).\n",
       " *\n",
       " */\n",
       "\n",
       "/**\n",
       " * Plots a single decision tree into a DOM element.\n",
       " * @param {!options} options Dictionary of configurations.\n",
       " * @param {!tree} raw_tree Recursive tree structure.\n",
       " * @param {string} canvas_id Id of the output dom element.\n",
       " */\n",
       "function display_tree(options, raw_tree, canvas_id) {\n",
       "  console.log(options);\n",
       "\n",
       "  // Determine the node placement.\n",
       "  const tree_struct = d3.tree().nodeSize(\n",
       "      [options.node_y_offset, options.node_x_offset])(d3.hierarchy(raw_tree));\n",
       "\n",
       "  // Boundaries of the node placement.\n",
       "  let x_min = Infinity;\n",
       "  let x_max = -x_min;\n",
       "  let y_min = Infinity;\n",
       "  let y_max = -x_min;\n",
       "\n",
       "  tree_struct.each(d => {\n",
       "    if (d.x > x_max) x_max = d.x;\n",
       "    if (d.x < x_min) x_min = d.x;\n",
       "    if (d.y > y_max) y_max = d.y;\n",
       "    if (d.y < y_min) y_min = d.y;\n",
       "  });\n",
       "\n",
       "  // Size of the plot.\n",
       "  const width = y_max - y_min + options.node_x_size + options.margin * 2;\n",
       "  const height = x_max - x_min + options.node_y_size + options.margin * 2 +\n",
       "      options.node_y_offset - options.node_y_size;\n",
       "\n",
       "  const plot = d3.select(canvas_id);\n",
       "\n",
       "  // Tool tip\n",
       "  options.tooltip = plot.append('div')\n",
       "                        .attr('width', 100)\n",
       "                        .attr('height', 100)\n",
       "                        .style('padding', '4px')\n",
       "                        .style('background', '#fff')\n",
       "                        .style('box-shadow', '4px 4px 0px rgba(0,0,0,0.1)')\n",
       "                        .style('border', '1px solid black')\n",
       "                        .style('font-family', 'sans-serif')\n",
       "                        .style('font-size', options.font_size)\n",
       "                        .style('position', 'absolute')\n",
       "                        .style('z-index', '10')\n",
       "                        .attr('pointer-events', 'none')\n",
       "                        .style('display', 'none');\n",
       "\n",
       "  // Create canvas\n",
       "  const svg = plot.append('svg').attr('width', width).attr('height', height);\n",
       "  const graph =\n",
       "      svg.style('overflow', 'visible')\n",
       "          .append('g')\n",
       "          .attr('font-family', 'sans-serif')\n",
       "          .attr('font-size', options.font_size)\n",
       "          .attr(\n",
       "              'transform',\n",
       "              () => `translate(${options.margin},${\n",
       "                  - x_min + options.node_y_offset / 2 + options.margin})`);\n",
       "\n",
       "  // Plot bounding box.\n",
       "  if (options.show_plot_bounding_box) {\n",
       "    svg.append('rect')\n",
       "        .attr('width', width)\n",
       "        .attr('height', height)\n",
       "        .attr('fill', 'none')\n",
       "        .attr('stroke-width', 1.0)\n",
       "        .attr('stroke', 'black');\n",
       "  }\n",
       "\n",
       "  // Draw the edges.\n",
       "  display_edges(options, graph, tree_struct);\n",
       "\n",
       "  // Draw the nodes.\n",
       "  display_nodes(options, graph, tree_struct);\n",
       "}\n",
       "\n",
       "/**\n",
       " * Draw the nodes of the tree.\n",
       " * @param {!options} options Dictionary of configurations.\n",
       " * @param {!graph} graph D3 search handle containing the graph.\n",
       " * @param {!tree_struct} tree_struct Structure of the tree (node placement,\n",
       " *     data, etc.).\n",
       " */\n",
       "function display_nodes(options, graph, tree_struct) {\n",
       "  const nodes = graph.append('g')\n",
       "                    .selectAll('g')\n",
       "                    .data(tree_struct.descendants())\n",
       "                    .join('g')\n",
       "                    .attr('transform', d => `translate(${d.y},${d.x})`);\n",
       "\n",
       "  nodes.append('rect')\n",
       "      .attr('x', 0.5)\n",
       "      .attr('y', 0.5)\n",
       "      .attr('width', options.node_x_size)\n",
       "      .attr('height', options.node_y_size)\n",
       "      .attr('stroke', 'lightgrey')\n",
       "      .attr('stroke-width', 1)\n",
       "      .attr('fill', 'white')\n",
       "      .attr('y', -options.node_y_size / 2);\n",
       "\n",
       "  // Brackets on the right of condition nodes without children.\n",
       "  non_leaf_node_without_children =\n",
       "      nodes.filter(node => node.data.condition != null && node.children == null)\n",
       "          .append('g')\n",
       "          .attr('transform', `translate(${options.node_x_size},0)`);\n",
       "\n",
       "  non_leaf_node_without_children.append('path')\n",
       "      .attr('d', 'M0,0 C 10,0 0,10 10,10')\n",
       "      .attr('fill', 'none')\n",
       "      .attr('stroke-width', 1.0)\n",
       "      .attr('stroke', '#F00');\n",
       "\n",
       "  non_leaf_node_without_children.append('path')\n",
       "      .attr('d', 'M0,0 C 10,0 0,-10 10,-10')\n",
       "      .attr('fill', 'none')\n",
       "      .attr('stroke-width', 1.0)\n",
       "      .attr('stroke', '#0F0');\n",
       "\n",
       "  const node_content = nodes.append('g').attr(\n",
       "      'transform',\n",
       "      `translate(0,${options.node_padding - options.node_y_size / 2})`);\n",
       "\n",
       "  node_content.append(node => create_node_element(options, node));\n",
       "}\n",
       "\n",
       "/**\n",
       " * Creates the D3 content for a single node.\n",
       " * @param {!options} options Dictionary of configurations.\n",
       " * @param {!node} node Node to draw.\n",
       " * @return {!d3} D3 content.\n",
       " */\n",
       "function create_node_element(options, node) {\n",
       "  // Output accumulator.\n",
       "  let output = {\n",
       "    // Content to draw.\n",
       "    content: d3.create('svg:g'),\n",
       "    // Vertical offset to the next element to draw.\n",
       "    vertical_offset: 0\n",
       "  };\n",
       "\n",
       "  // Conditions.\n",
       "  if (node.data.condition != null) {\n",
       "    display_condition(options, node.data.condition, output);\n",
       "  }\n",
       "\n",
       "  // Values.\n",
       "  if (node.data.value != null) {\n",
       "    display_value(options, node.data.value, output);\n",
       "  }\n",
       "\n",
       "  // Explanations.\n",
       "  if (node.data.explanation != null) {\n",
       "    display_explanation(options, node.data.explanation, output);\n",
       "  }\n",
       "\n",
       "  return output.content.node();\n",
       "}\n",
       "\n",
       "\n",
       "/**\n",
       " * Adds a single line of text inside of a node.\n",
       " * @param {!options} options Dictionary of configurations.\n",
       " * @param {string} text Text to display.\n",
       " * @param {!output} output Output display accumulator.\n",
       " */\n",
       "function display_node_text(options, text, output) {\n",
       "  output.content.append('text')\n",
       "      .attr('x', options.node_padding)\n",
       "      .attr('y', output.vertical_offset)\n",
       "      .attr('alignment-baseline', 'hanging')\n",
       "      .text(text);\n",
       "  output.vertical_offset += 10;\n",
       "}\n",
       "\n",
       "/**\n",
       " * Adds a single line of text inside of a node with a tooltip.\n",
       " * @param {!options} options Dictionary of configurations.\n",
       " * @param {string} text Text to display.\n",
       " * @param {string} tooltip Text in the Tooltip.\n",
       " * @param {!output} output Output display accumulator.\n",
       " */\n",
       "function display_node_text_with_tooltip(options, text, tooltip, output) {\n",
       "  const item = output.content.append('text')\n",
       "                   .attr('x', options.node_padding)\n",
       "                   .attr('alignment-baseline', 'hanging')\n",
       "                   .text(text);\n",
       "\n",
       "  add_tooltip(options, item, () => tooltip);\n",
       "  output.vertical_offset += 10;\n",
       "}\n",
       "\n",
       "/**\n",
       " * Adds a tooltip to a dom element.\n",
       " * @param {!options} options Dictionary of configurations.\n",
       " * @param {!dom} target Dom element to equip with a tooltip.\n",
       " * @param {!func} get_content Generates the html content of the tooltip.\n",
       " */\n",
       "function add_tooltip(options, target, get_content) {\n",
       "  function show(d) {\n",
       "    options.tooltip.style('display', 'block');\n",
       "    options.tooltip.html(get_content());\n",
       "  }\n",
       "\n",
       "  function hide(d) {\n",
       "    options.tooltip.style('display', 'none');\n",
       "  }\n",
       "\n",
       "  function move(d) {\n",
       "    options.tooltip.style('display', 'block');\n",
       "    options.tooltip.style('left', (d.pageX + 5) + 'px');\n",
       "    options.tooltip.style('top', d.pageY + 'px');\n",
       "  }\n",
       "\n",
       "  target.on('mouseover', show);\n",
       "  target.on('mouseout', hide);\n",
       "  target.on('mousemove', move);\n",
       "}\n",
       "\n",
       "/**\n",
       " * Adds a condition inside of a node.\n",
       " * @param {!options} options Dictionary of configurations.\n",
       " * @param {!condition} condition Condition to display.\n",
       " * @param {!output} output Output display accumulator.\n",
       " */\n",
       "function display_condition(options, condition, output) {\n",
       "  threshold_format = d3.format('r');\n",
       "\n",
       "  if (condition.type === 'IS_MISSING') {\n",
       "    display_node_text(options, `${condition.attribute} is missing`, output);\n",
       "    return;\n",
       "  }\n",
       "\n",
       "  if (condition.type === 'IS_TRUE') {\n",
       "    display_node_text(options, `${condition.attribute} is true`, output);\n",
       "    return;\n",
       "  }\n",
       "\n",
       "  if (condition.type === 'NUMERICAL_IS_HIGHER_THAN') {\n",
       "    format = d3.format('r');\n",
       "    display_node_text(\n",
       "        options,\n",
       "        `${condition.attribute} >= ${threshold_format(condition.threshold)}`,\n",
       "        output);\n",
       "    return;\n",
       "  }\n",
       "\n",
       "  if (condition.type === 'CATEGORICAL_IS_IN') {\n",
       "    display_node_text_with_tooltip(\n",
       "        options, `${condition.attribute} in [...]`,\n",
       "        `${condition.attribute} in [${condition.mask}]`, output);\n",
       "    return;\n",
       "  }\n",
       "\n",
       "  if (condition.type === 'CATEGORICAL_SET_CONTAINS') {\n",
       "    display_node_text_with_tooltip(\n",
       "        options, `${condition.attribute} intersect [...]`,\n",
       "        `${condition.attribute} intersect [${condition.mask}]`, output);\n",
       "    return;\n",
       "  }\n",
       "\n",
       "  if (condition.type === 'NUMERICAL_SPARSE_OBLIQUE') {\n",
       "    display_node_text_with_tooltip(\n",
       "        options, `Sparse oblique split...`,\n",
       "        `[${condition.attributes}]*[${condition.weights}]>=${\n",
       "            threshold_format(condition.threshold)}`,\n",
       "        output);\n",
       "    return;\n",
       "  }\n",
       "\n",
       "  display_node_text(\n",
       "      options, `Non supported condition ${condition.type}`, output);\n",
       "}\n",
       "\n",
       "/**\n",
       " * Adds a value inside of a node.\n",
       " * @param {!options} options Dictionary of configurations.\n",
       " * @param {!value} value Value to display.\n",
       " * @param {!output} output Output display accumulator.\n",
       " */\n",
       "function display_value(options, value, output) {\n",
       "  if (value.type === 'PROBABILITY') {\n",
       "    const left_margin = 0;\n",
       "    const right_margin = 50;\n",
       "    const plot_width = options.node_x_size - options.node_padding * 2 -\n",
       "        left_margin - right_margin;\n",
       "\n",
       "    let cusum = Array.from(d3.cumsum(value.distribution));\n",
       "    cusum.unshift(0);\n",
       "    const distribution_plot = output.content.append('g').attr(\n",
       "        'transform', `translate(0,${output.vertical_offset + 0.5})`);\n",
       "\n",
       "    distribution_plot.selectAll('rect')\n",
       "        .data(value.distribution)\n",
       "        .join('rect')\n",
       "        .attr('height', 10)\n",
       "        .attr(\n",
       "            'x',\n",
       "            (d, i) =>\n",
       "                (cusum[i] * plot_width + left_margin + options.node_padding))\n",
       "        .attr('width', (d, i) => d * plot_width)\n",
       "        .style('fill', (d, i) => d3.schemeSet1[i]);\n",
       "\n",
       "    const num_examples =\n",
       "        output.content.append('g')\n",
       "            .attr('transform', `translate(0,${output.vertical_offset})`)\n",
       "            .append('text')\n",
       "            .attr('x', options.node_x_size - options.node_padding)\n",
       "            .attr('alignment-baseline', 'hanging')\n",
       "            .attr('text-anchor', 'end')\n",
       "            .text(`(${value.num_examples})`);\n",
       "\n",
       "    const distribution_details = d3.create('ul');\n",
       "    distribution_details.selectAll('li')\n",
       "        .data(value.distribution)\n",
       "        .join('li')\n",
       "        .append('span')\n",
       "        .text(\n",
       "            (d, i) =>\n",
       "                'class ' + i + ': ' + d3.format('.3%')(value.distribution[i]));\n",
       "\n",
       "    add_tooltip(options, distribution_plot, () => distribution_details.html());\n",
       "    add_tooltip(options, num_examples, () => 'Number of examples');\n",
       "\n",
       "    output.vertical_offset += 10;\n",
       "    return;\n",
       "  }\n",
       "\n",
       "  if (value.type === 'REGRESSION') {\n",
       "    display_node_text(\n",
       "        options,\n",
       "        'value: ' + d3.format('r')(value.value) + ` (` +\n",
       "            d3.format('.6')(value.num_examples) + `)`,\n",
       "        output);\n",
       "    return;\n",
       "  }\n",
       "\n",
       "  display_node_text(options, `Non supported value ${value.type}`, output);\n",
       "}\n",
       "\n",
       "/**\n",
       " * Adds an explanation inside of a node.\n",
       " * @param {!options} options Dictionary of configurations.\n",
       " * @param {!explanation} explanation Explanation to display.\n",
       " * @param {!output} output Output display accumulator.\n",
       " */\n",
       "function display_explanation(options, explanation, output) {\n",
       "  // Margin before the explanation.\n",
       "  output.vertical_offset += 10;\n",
       "\n",
       "  display_node_text(\n",
       "      options, `Non supported explanation ${explanation.type}`, output);\n",
       "}\n",
       "\n",
       "\n",
       "/**\n",
       " * Draw the edges of the tree.\n",
       " * @param {!options} options Dictionary of configurations.\n",
       " * @param {!graph} graph D3 search handle containing the graph.\n",
       " * @param {!tree_struct} tree_struct Structure of the tree (node placement,\n",
       " *     data, etc.).\n",
       " */\n",
       "function display_edges(options, graph, tree_struct) {\n",
       "  // Draw an edge between a parent and a child node with a bezier.\n",
       "  function draw_single_edge(d) {\n",
       "    return 'M' + (d.source.y + options.node_x_size) + ',' + d.source.x + ' C' +\n",
       "        (d.source.y + options.node_x_size + options.edge_rounding) + ',' +\n",
       "        d.source.x + ' ' + (d.target.y - options.edge_rounding) + ',' +\n",
       "        d.target.x + ' ' + d.target.y + ',' + d.target.x;\n",
       "  }\n",
       "\n",
       "  graph.append('g')\n",
       "      .attr('fill', 'none')\n",
       "      .attr('stroke-width', 1.2)\n",
       "      .selectAll('path')\n",
       "      .data(tree_struct.links())\n",
       "      .join('path')\n",
       "      .attr('d', draw_single_edge)\n",
       "      .attr(\n",
       "          'stroke', d => (d.target === d.source.children[0]) ? '#0F0' : '#F00');\n",
       "}\n",
       "\n",
       "display_tree({\"margin\": 10, \"node_x_size\": 160, \"node_y_size\": 28, \"node_x_offset\": 180, \"node_y_offset\": 33, \"font_size\": 10, \"edge_rounding\": 20, \"node_padding\": 2, \"show_plot_bounding_box\": false}, {\"value\": {\"type\": \"PROBABILITY\", \"distribution\": [0.5018576736210346, 0.49814232637896544], \"num_examples\": 6998.0}, \"condition\": {\"type\": \"NUMERICAL_IS_HIGHER_THAN\", \"attribute\": \"Spa\", \"threshold\": 0.5}, \"children\": [{\"value\": {\"type\": \"PROBABILITY\", \"distribution\": [0.7337209302325581, 0.26627906976744187], \"num_examples\": 2580.0}, \"condition\": {\"type\": \"NUMERICAL_IS_HIGHER_THAN\", \"attribute\": \"Spa\", \"threshold\": 1371.5}, \"children\": [{\"value\": {\"type\": \"PROBABILITY\", \"distribution\": [0.9346733668341709, 0.06532663316582915], \"num_examples\": 398.0}, \"condition\": {\"type\": \"NUMERICAL_IS_HIGHER_THAN\", \"attribute\": \"FoodCourt\", \"threshold\": 398.5}, \"children\": [{\"value\": {\"type\": \"PROBABILITY\", \"distribution\": [0.8743718592964824, 0.12562814070351758], \"num_examples\": 199.0}, \"condition\": {\"type\": \"CATEGORICAL_IS_IN\", \"attribute\": \"Deck\", \"mask\": [\"C\"]}}, {\"value\": {\"type\": \"PROBABILITY\", \"distribution\": [0.9949748743718593, 0.005025125628140704], \"num_examples\": 199.0}, \"condition\": {\"type\": \"NUMERICAL_IS_HIGHER_THAN\", \"attribute\": \"Age\", \"threshold\": 53.0}}]}, {\"value\": {\"type\": \"PROBABILITY\", \"distribution\": [0.6970669110907425, 0.3029330889092576], \"num_examples\": 2182.0}, \"condition\": {\"type\": \"NUMERICAL_IS_HIGHER_THAN\", \"attribute\": \"FoodCourt\", \"threshold\": 1383.0}, \"children\": [{\"value\": {\"type\": \"PROBABILITY\", \"distribution\": [0.33791208791208793, 0.6620879120879121], \"num_examples\": 364.0}, \"condition\": {\"type\": \"CATEGORICAL_IS_IN\", \"attribute\": \"Cabin_num\", \"mask\": [\"82\", \"86\", \"56\", \"91\", \"97\", \"65\", \"27\", \"19\", \"23\", \"103\", \"95\", \"9\", \"99\", \"75\", \"35\", \"225\", \"21\", \"20\", \"175\", \"158\", \"137\", \"218\", \"16\", \"48\", \"291\", \"272\", \"264\", \"262\", \"258\", \"217\", \"211\", \"195\", \"193\", \"133\", \"122\", \"189\", \"181\", \"64\", \"5\", \"450\", \"32\", \"245\", \"232\", \"226\", \"209\", \"198\", \"196\", \"179\", \"171\", \"104\", \"77\", \"7\", \"342\", \"329\", \"30\", \"274\", \"239\", \"119\", \"116\", \"112\", \"439\", \"39\", \"308\", \"300\", \"271\", \"155\", \"236\", \"1433\", \"12\", \"113\"]}}, {\"value\": {\"type\": \"PROBABILITY\", \"distribution\": [0.768976897689769, 0.23102310231023102], \"num_examples\": 1818.0}, \"condition\": {\"type\": \"NUMERICAL_IS_HIGHER_THAN\", \"attribute\": \"RoomService\", \"threshold\": 364.0}}]}]}, {\"value\": {\"type\": \"PROBABILITY\", \"distribution\": [0.36645540968764145, 0.6335445903123585], \"num_examples\": 4418.0}, \"condition\": {\"type\": \"NUMERICAL_IS_HIGHER_THAN\", \"attribute\": \"CryoSleep\", \"threshold\": 0.5}, \"children\": [{\"value\": {\"type\": \"PROBABILITY\", \"distribution\": [0.18445807770961145, 0.8155419222903886], \"num_examples\": 2445.0}, \"condition\": {\"type\": \"CATEGORICAL_IS_IN\", \"attribute\": \"Deck\", \"mask\": [\"F\", \"B\", \"C\", \"D\", \"A\"]}, \"children\": [{\"value\": {\"type\": \"PROBABILITY\", \"distribution\": [0.023178807947019868, 0.9768211920529801], \"num_examples\": 1208.0}, \"condition\": {\"type\": \"CATEGORICAL_IS_IN\", \"attribute\": \"HomePlanet\", \"mask\": [\"Europa\", \"Mars\"]}}, {\"value\": {\"type\": \"PROBABILITY\", \"distribution\": [0.3419563459983832, 0.6580436540016168], \"num_examples\": 1237.0}, \"condition\": {\"type\": \"CATEGORICAL_IS_IN\", \"attribute\": \"Cabin_num\", \"mask\": [\"<OOD>\", \"91\", \"269\", \"230\", \"95\", \"72\", \"43\", \"42\", \"281\", \"279\", \"247\", \"24\", \"225\", \"92\", \"288\", \"201\", \"145\", \"140\", \"117\", \"66\", \"525\", \"48\", \"3\", \"272\", \"264\", \"262\", \"217\", \"193\", \"156\", \"152\", \"133\", \"125\", \"765\", \"76\", \"71\", \"67\", \"62\", \"41\", \"285\", \"237\", \"233\", \"190\", \"161\", \"129\", \"101\", \"10\", \"319\", \"220\", \"215\", \"209\", \"196\", \"15\", \"149\", \"1476\", \"1319\", \"981\", \"943\", \"856\", \"81\", \"77\", \"74\", \"541\", \"331\", \"284\", \"251\", \"249\", \"248\", \"191\", \"184\", \"154\", \"119\", \"974\", \"698\", \"439\", \"426\", \"36\", \"336\", \"296\", \"266\", \"253\", \"234\", \"1267\", \"862\", \"857\", \"657\", \"558\", \"500\", \"474\", \"445\", \"385\", \"338\", \"316\", \"31\", \"256\", \"114\", \"1108\", \"1028\", \"999\", \"994\", \"982\", \"904\", \"889\", \"882\", \"881\", \"838\", \"799\", \"755\", \"732\", \"707\", \"697\", \"642\", \"607\", \"606\", \"595\", \"568\", \"554\", \"542\", \"537\", \"530\", \"437\", \"423\", \"371\", \"356\", \"322\", \"312\", \"1364\", \"1253\", \"1156\", \"1150\", \"1144\", \"1061\", \"1044\", \"1023\"]}}]}, {\"value\": {\"type\": \"PROBABILITY\", \"distribution\": [0.5919918905220476, 0.40800810947795235], \"num_examples\": 1973.0}, \"condition\": {\"type\": \"NUMERICAL_IS_HIGHER_THAN\", \"attribute\": \"Age\", \"threshold\": 6.5}, \"children\": [{\"value\": {\"type\": \"PROBABILITY\", \"distribution\": [0.6288135593220339, 0.3711864406779661], \"num_examples\": 1770.0}, \"condition\": {\"type\": \"NUMERICAL_IS_HIGHER_THAN\", \"attribute\": \"VRDeck\", \"threshold\": 237.5}}, {\"value\": {\"type\": \"PROBABILITY\", \"distribution\": [0.270935960591133, 0.729064039408867], \"num_examples\": 203.0}, \"condition\": {\"type\": \"CATEGORICAL_IS_IN\", \"attribute\": \"HomePlanet\", \"mask\": [\"Europa\", \"Mars\"]}}]}]}]}, \"#tree_plot_d76893a96d4141a4ba808a80b7f4fbf1\")\n",
       "</script>\n"
      ],
      "text/plain": [
       "<IPython.core.display.HTML object>"
      ]
     },
     "execution_count": 22,
     "metadata": {},
     "output_type": "execute_result"
    }
   ],
   "source": [
    "tfdf.model_plotter.plot_model_in_colab(rf, tree_idx=0, max_depth=3)"
   ]
  },
  {
   "cell_type": "markdown",
   "id": "81605171",
   "metadata": {
    "id": "1q5zxzuLmnjb",
    "papermill": {
     "duration": 0.016772,
     "end_time": "2023-05-03T05:24:35.219231",
     "exception": false,
     "start_time": "2023-05-03T05:24:35.202459",
     "status": "completed"
    },
    "tags": []
   },
   "source": [
    "# Evaluate the model on the Out of bag (OOB) data and the validation dataset\n",
    "\n",
    "Before training the dataset we have manually seperated 20% of the dataset for validation named as `valid_ds`.\n",
    "\n",
    "We can also use Out of bag (OOB) score to validate our RandomForestModel.\n",
    "To train a Random Forest Model, a set of random samples from training set are choosen by the algorithm and the rest of the samples are used to finetune the model.The subset of data that is not chosen is known as Out of bag data (OOB).\n",
    "OOB score is computed on the OOB data.\n",
    "\n",
    "Read more about OOB data [here](https://developers.google.com/machine-learning/decision-forests/out-of-bag).\n",
    "\n",
    "The training logs show the accuracy evaluated on the out-of-bag dataset according to the number of trees in the model. Let us plot this.\n",
    "\n",
    "Note: Larger values are better for this hyperparameter."
   ]
  },
  {
   "cell_type": "code",
   "execution_count": 23,
   "id": "6514eb13",
   "metadata": {
    "execution": {
     "iopub.execute_input": "2023-05-03T05:24:35.256344Z",
     "iopub.status.busy": "2023-05-03T05:24:35.255491Z",
     "iopub.status.idle": "2023-05-03T05:24:35.405487Z",
     "shell.execute_reply": "2023-05-03T05:24:35.404024Z"
    },
    "id": "z7u4IuAQmnjb",
    "papermill": {
     "duration": 0.171422,
     "end_time": "2023-05-03T05:24:35.408265",
     "exception": false,
     "start_time": "2023-05-03T05:24:35.236843",
     "status": "completed"
    },
    "tags": []
   },
   "outputs": [
    {
     "data": {
      "image/png": "[encoded data removed]",
      "text/plain": [
       "<Figure size 640x480 with 1 Axes>"
      ]
     },
     "metadata": {},
     "output_type": "display_data"
    }
   ],
   "source": [
    "import matplotlib.pyplot as plt\n",
    "logs = rf.make_inspector().training_logs()\n",
    "plt.plot([log.num_trees for log in logs], [log.evaluation.accuracy for log in logs])\n",
    "plt.xlabel(\"Number of trees\")\n",
    "plt.ylabel(\"Accuracy (out-of-bag)\")\n",
    "plt.show()"
   ]
  },
  {
   "cell_type": "markdown",
   "id": "7a697a31",
   "metadata": {
    "id": "N24V7vhAmnjb",
    "papermill": {
     "duration": 0.017109,
     "end_time": "2023-05-03T05:24:35.443467",
     "exception": false,
     "start_time": "2023-05-03T05:24:35.426358",
     "status": "completed"
    },
    "tags": []
   },
   "source": [
    "We can also see some general stats on the OOB dataset:"
   ]
  },
  {
   "cell_type": "code",
   "execution_count": 24,
   "id": "ff6d0c87",
   "metadata": {
    "execution": {
     "iopub.execute_input": "2023-05-03T05:24:35.481093Z",
     "iopub.status.busy": "2023-05-03T05:24:35.480346Z",
     "iopub.status.idle": "2023-05-03T05:24:35.491192Z",
     "shell.execute_reply": "2023-05-03T05:24:35.489791Z"
    },
    "id": "QTD92zMGmnjc",
    "papermill": {
     "duration": 0.032682,
     "end_time": "2023-05-03T05:24:35.493638",
     "exception": false,
     "start_time": "2023-05-03T05:24:35.460956",
     "status": "completed"
    },
    "tags": []
   },
   "outputs": [
    {
     "data": {
      "text/plain": [
       "Evaluation(num_examples=6998, accuracy=0.7946556158902544, loss=0.5329448528594206, rmse=None, ndcg=None, aucs=None, auuc=None, qini=None)"
      ]
     },
     "execution_count": 24,
     "metadata": {},
     "output_type": "execute_result"
    }
   ],
   "source": [
    "inspector = rf.make_inspector()\n",
    "inspector.evaluation()"
   ]
  },
  {
   "cell_type": "markdown",
   "id": "0bbdad9d",
   "metadata": {
    "id": "SuVS0BGXmnjd",
    "papermill": {
     "duration": 0.017384,
     "end_time": "2023-05-03T05:24:35.528652",
     "exception": false,
     "start_time": "2023-05-03T05:24:35.511268",
     "status": "completed"
    },
    "tags": []
   },
   "source": [
    "Now, let us run an evaluation using the validation dataset."
   ]
  },
  {
   "cell_type": "code",
   "execution_count": 25,
   "id": "3c6eb379",
   "metadata": {
    "execution": {
     "iopub.execute_input": "2023-05-03T05:24:35.565976Z",
     "iopub.status.busy": "2023-05-03T05:24:35.565538Z",
     "iopub.status.idle": "2023-05-03T05:24:36.188867Z",
     "shell.execute_reply": "2023-05-03T05:24:36.187328Z"
    },
    "id": "C0SfSxc0mnjd",
    "papermill": {
     "duration": 0.645053,
     "end_time": "2023-05-03T05:24:36.191253",
     "exception": false,
     "start_time": "2023-05-03T05:24:35.546200",
     "status": "completed"
    },
    "tags": []
   },
   "outputs": [
    {
     "name": "stdout",
     "output_type": "stream",
     "text": [
      "2/2 [==============================] - 1s 62ms/step - loss: 0.0000e+00 - accuracy: 0.7971\n",
      "loss: 0.0000\n",
      "accuracy: 0.7971\n"
     ]
    }
   ],
   "source": [
    "evaluation = rf.evaluate(x=valid_ds,return_dict=True)\n",
    "\n",
    "for name, value in evaluation.items():\n",
    "  print(f\"{name}: {value:.4f}\")"
   ]
  },
  {
   "cell_type": "markdown",
   "id": "ea2f9572",
   "metadata": {
    "id": "cgAI1XrVmnje",
    "papermill": {
     "duration": 0.017718,
     "end_time": "2023-05-03T05:24:36.226978",
     "exception": false,
     "start_time": "2023-05-03T05:24:36.209260",
     "status": "completed"
    },
    "tags": []
   },
   "source": [
    "# Variable importances\n",
    "\n",
    "Variable importances generally indicate how much a feature contributes to the model predictions or quality. There are several ways to identify important features using TensorFlow Decision Forests.\n",
    "Let us list the available `Variable Importances` for Decision Trees:"
   ]
  },
  {
   "cell_type": "code",
   "execution_count": 26,
   "id": "02870794",
   "metadata": {
    "execution": {
     "iopub.execute_input": "2023-05-03T05:24:36.265441Z",
     "iopub.status.busy": "2023-05-03T05:24:36.265016Z",
     "iopub.status.idle": "2023-05-03T05:24:36.271854Z",
     "shell.execute_reply": "2023-05-03T05:24:36.270526Z"
    },
    "id": "BdPN_fV1mnje",
    "papermill": {
     "duration": 0.029434,
     "end_time": "2023-05-03T05:24:36.274666",
     "exception": false,
     "start_time": "2023-05-03T05:24:36.245232",
     "status": "completed"
    },
    "tags": []
   },
   "outputs": [
    {
     "name": "stdout",
     "output_type": "stream",
     "text": [
      "Available variable importances:\n",
      "\t SUM_SCORE\n",
      "\t NUM_AS_ROOT\n",
      "\t NUM_NODES\n",
      "\t INV_MEAN_MIN_DEPTH\n"
     ]
    }
   ],
   "source": [
    "print(f\"Available variable importances:\")\n",
    "for importance in inspector.variable_importances().keys():\n",
    "  print(\"\\t\", importance)"
   ]
  },
  {
   "cell_type": "markdown",
   "id": "74ea4b15",
   "metadata": {
    "id": "dr-nVQwCmnje",
    "papermill": {
     "duration": 0.017781,
     "end_time": "2023-05-03T05:24:36.310540",
     "exception": false,
     "start_time": "2023-05-03T05:24:36.292759",
     "status": "completed"
    },
    "tags": []
   },
   "source": [
    "As an example, let us display the important features for the Variable Importance `NUM_AS_ROOT`.\n",
    "\n",
    "The larger the importance score for `NUM_AS_ROOT`, the more impact it has on the outcome of the model.\n",
    "\n",
    "By default, the list is sorted from the most important to the least. From the output you can infer that the feature at the top of the list is used as the root node in most number of trees in the random forest than any other feature."
   ]
  },
  {
   "cell_type": "code",
   "execution_count": 27,
   "id": "d0ce8f29",
   "metadata": {
    "execution": {
     "iopub.execute_input": "2023-05-03T05:24:36.349517Z",
     "iopub.status.busy": "2023-05-03T05:24:36.349109Z",
     "iopub.status.idle": "2023-05-03T05:24:36.356870Z",
     "shell.execute_reply": "2023-05-03T05:24:36.355550Z"
    },
    "id": "etYOifhfmnje",
    "papermill": {
     "duration": 0.030952,
     "end_time": "2023-05-03T05:24:36.359781",
     "exception": false,
     "start_time": "2023-05-03T05:24:36.328829",
     "status": "completed"
    },
    "tags": []
   },
   "outputs": [
    {
     "data": {
      "text/plain": [
       "[(\"CryoSleep\" (1; #2), 125.0),\n",
       " (\"Spa\" (1; #10), 52.0),\n",
       " (\"RoomService\" (1; #7), 51.0),\n",
       " (\"VRDeck\" (1; #12), 45.0),\n",
       " (\"ShoppingMall\" (1; #8), 13.0),\n",
       " (\"FoodCourt\" (1; #5), 11.0),\n",
       " (\"Deck\" (4; #3), 3.0)]"
      ]
     },
     "execution_count": 27,
     "metadata": {},
     "output_type": "execute_result"
    }
   ],
   "source": [
    "# Each line is: (feature name, (index of the feature), importance score)\n",
    "inspector.variable_importances()[\"NUM_AS_ROOT\"]"
   ]
  },
  {
   "cell_type": "markdown",
   "id": "5035cade",
   "metadata": {
    "id": "DAtAR0vkmnje",
    "papermill": {
     "duration": 0.021377,
     "end_time": "2023-05-03T05:24:36.399819",
     "exception": false,
     "start_time": "2023-05-03T05:24:36.378442",
     "status": "completed"
    },
    "tags": []
   },
   "source": [
    "# Submission"
   ]
  },
  {
   "cell_type": "code",
   "execution_count": 28,
   "id": "b5621a6d",
   "metadata": {
    "execution": {
     "iopub.execute_input": "2023-05-03T05:24:36.439417Z",
     "iopub.status.busy": "2023-05-03T05:24:36.438639Z",
     "iopub.status.idle": "2023-05-03T05:24:37.327589Z",
     "shell.execute_reply": "2023-05-03T05:24:37.326251Z"
    },
    "id": "KHBRzBD9mnjf",
    "papermill": {
     "duration": 0.911238,
     "end_time": "2023-05-03T05:24:37.330014",
     "exception": false,
     "start_time": "2023-05-03T05:24:36.418776",
     "status": "completed"
    },
    "tags": []
   },
   "outputs": [
    {
     "name": "stdout",
     "output_type": "stream",
     "text": [
      "5/5 [==============================] - 1s 66ms/step\n"
     ]
    },
    {
     "data": {
      "text/html": [
       "<div>\n",
       "<style scoped>\n",
       "    .dataframe tbody tr th:only-of-type {\n",
       "        vertical-align: middle;\n",
       "    }\n",
       "\n",
       "    .dataframe tbody tr th {\n",
       "        vertical-align: top;\n",
       "    }\n",
       "\n",
       "    .dataframe thead th {\n",
       "        text-align: right;\n",
       "    }\n",
       "</style>\n",
       "<table border=\"1\" class=\"dataframe\">\n",
       "  <thead>\n",
       "    <tr style=\"text-align: right;\">\n",
       "      <th></th>\n",
       "      <th>PassengerId</th>\n",
       "      <th>Transported</th>\n",
       "    </tr>\n",
       "  </thead>\n",
       "  <tbody>\n",
       "    <tr>\n",
       "      <th>0</th>\n",
       "      <td>0013_01</td>\n",
       "      <td>True</td>\n",
       "    </tr>\n",
       "    <tr>\n",
       "      <th>1</th>\n",
       "      <td>0018_01</td>\n",
       "      <td>False</td>\n",
       "    </tr>\n",
       "    <tr>\n",
       "      <th>2</th>\n",
       "      <td>0019_01</td>\n",
       "      <td>True</td>\n",
       "    </tr>\n",
       "    <tr>\n",
       "      <th>3</th>\n",
       "      <td>0021_01</td>\n",
       "      <td>True</td>\n",
       "    </tr>\n",
       "    <tr>\n",
       "      <th>4</th>\n",
       "      <td>0023_01</td>\n",
       "      <td>True</td>\n",
       "    </tr>\n",
       "  </tbody>\n",
       "</table>\n",
       "</div>"
      ],
      "text/plain": [
       "  PassengerId  Transported\n",
       "0     0013_01         True\n",
       "1     0018_01        False\n",
       "2     0019_01         True\n",
       "3     0021_01         True\n",
       "4     0023_01         True"
      ]
     },
     "execution_count": 28,
     "metadata": {},
     "output_type": "execute_result"
    }
   ],
   "source": [
    "# Load the test dataset\n",
    "test_df = pd.read_csv('/kaggle/input/spaceship-titanic/test.csv')\n",
    "submission_id = test_df.PassengerId\n",
    "\n",
    "# Replace NaN values with zero\n",
    "test_df[['VIP', 'CryoSleep']] = test_df[['VIP', 'CryoSleep']].fillna(value=0)\n",
    "\n",
    "# Creating New Features - Deck, Cabin_num and Side from the column Cabin and remove Cabin\n",
    "test_df[[\"Deck\", \"Cabin_num\", \"Side\"]] = test_df[\"Cabin\"].str.split(\"/\", expand=True)\n",
    "test_df = test_df.drop('Cabin', axis=1)\n",
    "\n",
    "# Convert boolean to 1's and 0's\n",
    "test_df['VIP'] = test_df['VIP'].astype(int)\n",
    "test_df['CryoSleep'] = test_df['CryoSleep'].astype(int)\n",
    "\n",
    "# Convert pd dataframe to tf dataset\n",
    "test_ds = tfdf.keras.pd_dataframe_to_tf_dataset(test_df)\n",
    "\n",
    "# Get the predictions for testdata\n",
    "predictions = rf.predict(test_ds)\n",
    "n_predictions = (predictions > 0.5).astype(bool)\n",
    "output = pd.DataFrame({'PassengerId': submission_id,\n",
    "                       'Transported': n_predictions.squeeze()})\n",
    "\n",
    "output.head()"
   ]
  },
  {
   "cell_type": "code",
   "execution_count": 29,
   "id": "00c7e3a3",
   "metadata": {
    "execution": {
     "iopub.execute_input": "2023-05-03T05:24:37.369199Z",
     "iopub.status.busy": "2023-05-03T05:24:37.368523Z",
     "iopub.status.idle": "2023-05-03T05:24:37.401279Z",
     "shell.execute_reply": "2023-05-03T05:24:37.399917Z"
    },
    "id": "OZuB6CdUmnjf",
    "papermill": {
     "duration": 0.055744,
     "end_time": "2023-05-03T05:24:37.404191",
     "exception": false,
     "start_time": "2023-05-03T05:24:37.348447",
     "status": "completed"
    },
    "tags": []
   },
   "outputs": [
    {
     "data": {
      "text/html": [
       "<div>\n",
       "<style scoped>\n",
       "    .dataframe tbody tr th:only-of-type {\n",
       "        vertical-align: middle;\n",
       "    }\n",
       "\n",
       "    .dataframe tbody tr th {\n",
       "        vertical-align: top;\n",
       "    }\n",
       "\n",
       "    .dataframe thead th {\n",
       "        text-align: right;\n",
       "    }\n",
       "</style>\n",
       "<table border=\"1\" class=\"dataframe\">\n",
       "  <thead>\n",
       "    <tr style=\"text-align: right;\">\n",
       "      <th></th>\n",
       "      <th>PassengerId</th>\n",
       "      <th>Transported</th>\n",
       "    </tr>\n",
       "  </thead>\n",
       "  <tbody>\n",
       "    <tr>\n",
       "      <th>0</th>\n",
       "      <td>0013_01</td>\n",
       "      <td>True</td>\n",
       "    </tr>\n",
       "    <tr>\n",
       "      <th>1</th>\n",
       "      <td>0018_01</td>\n",
       "      <td>False</td>\n",
       "    </tr>\n",
       "    <tr>\n",
       "      <th>2</th>\n",
       "      <td>0019_01</td>\n",
       "      <td>True</td>\n",
       "    </tr>\n",
       "    <tr>\n",
       "      <th>3</th>\n",
       "      <td>0021_01</td>\n",
       "      <td>True</td>\n",
       "    </tr>\n",
       "    <tr>\n",
       "      <th>4</th>\n",
       "      <td>0023_01</td>\n",
       "      <td>True</td>\n",
       "    </tr>\n",
       "  </tbody>\n",
       "</table>\n",
       "</div>"
      ],
      "text/plain": [
       "  PassengerId  Transported\n",
       "0     0013_01         True\n",
       "1     0018_01        False\n",
       "2     0019_01         True\n",
       "3     0021_01         True\n",
       "4     0023_01         True"
      ]
     },
     "execution_count": 29,
     "metadata": {},
     "output_type": "execute_result"
    }
   ],
   "source": [
    "sample_submission_df = pd.read_csv('/kaggle/input/spaceship-titanic/sample_submission.csv')\n",
    "sample_submission_df['Transported'] = n_predictions\n",
    "sample_submission_df.to_csv('/kaggle/working/submission.csv', index=False)\n",
    "sample_submission_df.head()"
   ]
  }
 ],
 "metadata": {
  "kernelspec": {
   "display_name": "Python 3",
   "language": "python",
   "name": "python3"
  },
  "language_info": {
   "codemirror_mode": {
    "name": "ipython",
    "version": 3
   },
   "file_extension": ".py",
   "mimetype": "text/x-python",
   "name": "python",
   "nbconvert_exporter": "python",
   "pygments_lexer": "ipython3",
   "version": "3.7.12"
  },
  "papermill": {
   "default_parameters": {},
   "duration": 120.391105,
   "end_time": "2023-05-03T05:24:40.800597",
   "environment_variables": {},
   "exception": null,
   "input_path": "__notebook__.ipynb",
   "output_path": "__notebook__.ipynb",
   "parameters": {},
   "start_time": "2023-05-03T05:22:40.409492",
   "version": "2.4.0"
  }
 },
 "nbformat": 4,
 "nbformat_minor": 5
}
